{
  "cells": [
    {
      "cell_type": "markdown",
      "metadata": {
        "id": "view-in-github",
        "colab_type": "text"
      },
      "source": [
        "<a href=\"https://colab.research.google.com/github/AtulyaMS/dotfiles/blob/master/FinalModel_TrainingPro.ipynb\" target=\"_parent\"><img src=\"https://colab.research.google.com/assets/colab-badge.svg\" alt=\"Open In Colab\"/></a>"
      ]
    },
    {
      "cell_type": "code",
      "execution_count": 1,
      "metadata": {
        "id": "0hXOIbqInUBp"
      },
      "outputs": [],
      "source": [
        "import numpy as np\n",
        "# Set numpy to print only 2 decimal digits for neatness\n",
        "np.set_printoptions(precision=2, suppress=True)"
      ]
    },
    {
      "cell_type": "code",
      "execution_count": null,
      "metadata": {
        "id": "kA_oTzu6nyDI"
      },
      "outputs": [],
      "source": [
        "# import SimpleITK as sitk\n",
        "\n",
        "\n",
        "# from dltk.io import preprocessing\n",
        "# from skimage import filters\n",
        "\n",
        "# from nipype.interfaces import fsl\n",
        "# from nipype.interfaces.fsl import BET\n",
        "# from nipype.testing import example_data\n",
        "\n"
      ]
    },
    {
      "cell_type": "code",
      "execution_count": 46,
      "metadata": {
        "id": "tTPlIjqNnynf"
      },
      "outputs": [],
      "source": [
        "import shutil\n",
        "import tensorflow as tf\n",
        "import os\n",
        "import gzip\n",
        "import tarfile\n",
        "\n",
        "import pandas as pd\n",
        "import matplotlib.pyplot as plt\n",
        "from collections import Counter\n",
        "from tensorflow.keras.callbacks import EarlyStopping\n",
        "import seaborn as sns\n"
      ]
    },
    {
      "cell_type": "code",
      "source": [
        "!pip install scikit-plot"
      ],
      "metadata": {
        "colab": {
          "base_uri": "https://localhost:8080/"
        },
        "id": "0qb1j7GUrKle",
        "outputId": "f78c3636-c21a-4af2-b0fb-9d228ba7bf4e"
      },
      "execution_count": 49,
      "outputs": [
        {
          "output_type": "stream",
          "name": "stdout",
          "text": [
            "Looking in indexes: https://pypi.org/simple, https://us-python.pkg.dev/colab-wheels/public/simple/\n",
            "Collecting scikit-plot\n",
            "  Downloading scikit_plot-0.3.7-py3-none-any.whl (33 kB)\n",
            "Requirement already satisfied: joblib>=0.10 in /usr/local/lib/python3.8/dist-packages (from scikit-plot) (1.2.0)\n",
            "Requirement already satisfied: matplotlib>=1.4.0 in /usr/local/lib/python3.8/dist-packages (from scikit-plot) (3.2.2)\n",
            "Requirement already satisfied: scipy>=0.9 in /usr/local/lib/python3.8/dist-packages (from scikit-plot) (1.7.3)\n",
            "Requirement already satisfied: scikit-learn>=0.18 in /usr/local/lib/python3.8/dist-packages (from scikit-plot) (1.0.2)\n",
            "Requirement already satisfied: cycler>=0.10 in /usr/local/lib/python3.8/dist-packages (from matplotlib>=1.4.0->scikit-plot) (0.11.0)\n",
            "Requirement already satisfied: numpy>=1.11 in /usr/local/lib/python3.8/dist-packages (from matplotlib>=1.4.0->scikit-plot) (1.21.6)\n",
            "Requirement already satisfied: pyparsing!=2.0.4,!=2.1.2,!=2.1.6,>=2.0.1 in /usr/local/lib/python3.8/dist-packages (from matplotlib>=1.4.0->scikit-plot) (3.0.9)\n",
            "Requirement already satisfied: kiwisolver>=1.0.1 in /usr/local/lib/python3.8/dist-packages (from matplotlib>=1.4.0->scikit-plot) (1.4.4)\n",
            "Requirement already satisfied: python-dateutil>=2.1 in /usr/local/lib/python3.8/dist-packages (from matplotlib>=1.4.0->scikit-plot) (2.8.2)\n",
            "Requirement already satisfied: six>=1.5 in /usr/local/lib/python3.8/dist-packages (from python-dateutil>=2.1->matplotlib>=1.4.0->scikit-plot) (1.15.0)\n",
            "Requirement already satisfied: threadpoolctl>=2.0.0 in /usr/local/lib/python3.8/dist-packages (from scikit-learn>=0.18->scikit-plot) (3.1.0)\n",
            "Installing collected packages: scikit-plot\n",
            "Successfully installed scikit-plot-0.3.7\n"
          ]
        }
      ]
    },
    {
      "cell_type": "code",
      "source": [
        "from sklearn.model_selection import cross_val_predict, train_test_split\n",
        "import scikitplot as skplt\n",
        "from sklearn.metrics import classification_report"
      ],
      "metadata": {
        "id": "s8dAFWtLrYEC"
      },
      "execution_count": 50,
      "outputs": []
    },
    {
      "cell_type": "code",
      "execution_count": 3,
      "metadata": {
        "id": "hM2KNdnun0yX"
      },
      "outputs": [],
      "source": [
        "IMG_SHAPE = (78, 110, 86)\n",
        "IMG_2D_SHAPE = (IMG_SHAPE[1] * 4, IMG_SHAPE[2] * 4)\n",
        "#SHUFFLE_BUFFER = 5 #Subject to change\n",
        "N_CLASSES = 3"
      ]
    },
    {
      "cell_type": "code",
      "execution_count": 4,
      "metadata": {
        "colab": {
          "base_uri": "https://localhost:8080/"
        },
        "id": "jAFMOTrMn273",
        "outputId": "1ab6606a-00b1-4c2c-c18e-c7c26b839264"
      },
      "outputs": [
        {
          "output_type": "stream",
          "name": "stdout",
          "text": [
            "Mounted at /content/gdrive\n"
          ]
        }
      ],
      "source": [
        "from google.colab import drive\n",
        "drive.mount('/content/gdrive', force_remount=True)\n"
      ]
    },
    {
      "cell_type": "code",
      "execution_count": 5,
      "metadata": {
        "id": "qcsybQXJn44P"
      },
      "outputs": [],
      "source": [
        "root_dir = \"/content/gdrive/MyDrive/\"\n",
        "base_dir = root_dir + 'Final_model_training'\n",
        "os.chdir(base_dir)"
      ]
    },
    {
      "cell_type": "code",
      "execution_count": 6,
      "metadata": {
        "id": "ef8l_znZn7Tv"
      },
      "outputs": [],
      "source": [
        "def resample_img(itk_image, out_spacing=[2.0, 2.0, 2.0]):\n",
        "    ''' This function resamples images to 2-mm isotropic voxels.\n",
        "      \n",
        "        Parameters:\n",
        "            itk_image -- Image in simpleitk format, not a numpy array\n",
        "            out_spacing -- Space representation of each voxel\n",
        "            \n",
        "        Returns: \n",
        "            Resulting image in simpleitk format, not a numpy array\n",
        "    '''\n",
        "    \n",
        "    # Resample images to 2mm spacing with SimpleITK\n",
        "    original_spacing = itk_image.GetSpacing()\n",
        "    original_size = itk_image.GetSize()\n",
        "\n",
        "    out_size = [\n",
        "        int(np.round(original_size[0] * (original_spacing[0] / out_spacing[0]))),\n",
        "        int(np.round(original_size[1] * (original_spacing[1] / out_spacing[1]))),\n",
        "        int(np.round(original_size[2] * (original_spacing[2] / out_spacing[2])))]\n",
        "\n",
        "    resample = sitk.ResampleImageFilter()\n",
        "    resample.SetOutputSpacing(out_spacing)\n",
        "    resample.SetSize(out_size)\n",
        "    resample.SetOutputDirection(itk_image.GetDirection())\n",
        "    resample.SetOutputOrigin(itk_image.GetOrigin())\n",
        "    resample.SetTransform(sitk.Transform())\n",
        "    resample.SetDefaultPixelValue(itk_image.GetPixelIDValue())\n",
        "\n",
        "    resample.SetInterpolator(sitk.sitkBSpline)\n",
        "\n",
        "    return resample.Execute(itk_image)"
      ]
    },
    {
      "cell_type": "code",
      "execution_count": 7,
      "metadata": {
        "id": "5DsccL6on9MP"
      },
      "outputs": [],
      "source": [
        "def registrate(sitk_fixed, sitk_moving, bspline=False):\n",
        "    ''' Perform image registration using SimpleElastix.\n",
        "        By default, uses affine transformation.\n",
        "        \n",
        "        Parameters:\n",
        "            sitk_fixed -- Reference atlas (sitk .nii)\n",
        "            sitk_moving -- Image to be registrated\n",
        "                           (sitk .nii)\n",
        "            bspline -- Whether or not to perform non-rigid\n",
        "                       registration. Note: it usually deforms\n",
        "                       the images and increases execution times\n",
        "    '''\n",
        "    \n",
        "    elastixImageFilter = sitk.ElastixImageFilter()#sitk.ElastixImageFilter()   SimpleElastix()\n",
        "    elastixImageFilter.SetFixedImage(sitk_fixed)\n",
        "    elastixImageFilter.SetMovingImage(sitk_moving)\n",
        "\n",
        "    parameterMapVector = sitk.VectorOfParameterMap()\n",
        "    parameterMapVector.append(sitk.GetDefaultParameterMap(\"affine\"))\n",
        "    if bspline:\n",
        "        parameterMapVector.append(sitk.GetDefaultParameterMap(\"bspline\"))\n",
        "    elastixImageFilter.SetParameterMap(parameterMapVector)\n",
        "\n",
        "    elastixImageFilter.Execute()\n",
        "    return elastixImageFilter.GetResultImage()"
      ]
    },
    {
      "cell_type": "code",
      "execution_count": 8,
      "metadata": {
        "id": "GffgnexYoCl4"
      },
      "outputs": [],
      "source": [
        "def skull_strip_nii(original_img, destination_img, frac=0.2): #\n",
        "    ''' Practice skull stripping on the given image, and save\n",
        "        the result to a new .nii image.\n",
        "        Uses FSL-BET \n",
        "        (https://fsl.fmrib.ox.ac.uk/fsl/fslwiki/BET/UserGuide#Main_bet2_options:)\n",
        "        \n",
        "        Parameters:\n",
        "            original_img -- Original nii image\n",
        "            destination_img -- The new skull-stripped image\n",
        "            frac -- Fractional intensity threshold for BET\n",
        "    '''\n",
        "    \n",
        "    btr = fsl.BET()\n",
        "    btr.inputs.in_file = original_img\n",
        "    btr.inputs.frac = frac\n",
        "    btr.inputs.out_file = destination_img\n",
        "    btr.cmdline\n",
        "    res = btr.run()\n",
        "    return res"
      ]
    },
    {
      "cell_type": "code",
      "execution_count": 9,
      "metadata": {
        "id": "a3sYT-floEpY"
      },
      "outputs": [],
      "source": [
        "def slices_matrix_2D(img):\n",
        "  ''' Transform a 3D MRI image into a 2D image, by obtaining 9 slices \n",
        "      and placing them in a 4x4 two-dimensional grid.\n",
        "      \n",
        "      All 16 cuts are from a horizontal/axial view. They are selected\n",
        "      from the 30th to the 60th level of the original 3D image.\n",
        "      \n",
        "      Parameters:\n",
        "        img -- np.ndarray with the 3D image\n",
        "        \n",
        "      Returns:\n",
        "        np.ndarray -- The resulting 2D image\n",
        "  '''\n",
        "  \n",
        "  # create the final 2D image \n",
        "  image_2D = np.empty(IMG_2D_SHAPE)\n",
        "  \n",
        "  # set the limits and the step\n",
        "  TOP = 60\n",
        "  BOTTOM = 30\n",
        "  STEP = 2\n",
        "  N_CUTS = 16\n",
        "  \n",
        "  # iterator for the cuts\n",
        "  cut_it = TOP\n",
        "  # iterator for the rows of the 2D final image\n",
        "  row_it = 0\n",
        "  # iterator for the columns of the 2D final image\n",
        "  col_it = 0\n",
        "  \n",
        "  for cutting_time in range(N_CUTS):\n",
        "    \n",
        "    # cut\n",
        "    cut = img[cut_it, :, :]\n",
        "    cut_it -= STEP\n",
        "    \n",
        "    # reset the row iterator and move the\n",
        "    # col iterator when needed\n",
        "    if cutting_time in [4, 8, 12]:\n",
        "      row_it = 0\n",
        "      col_it += cut.shape[1]\n",
        "    \n",
        "    # copy the cut to the 2D image\n",
        "    for i in range(cut.shape[0]):\n",
        "      for j in range(cut.shape[1]):\n",
        "        image_2D[i + row_it, j + col_it] = cut[i, j]\n",
        "    row_it += cut.shape[0]\n",
        "  \n",
        "  # return the final 2D image, with 3 channels\n",
        "  # this is necessary for working with most pre-trained nets\n",
        "  return np.repeat(image_2D[None, ...], 3, axis=0).T"
      ]
    },
    {
      "cell_type": "code",
      "execution_count": 10,
      "metadata": {
        "id": "JWc-Q35uoIaQ"
      },
      "outputs": [],
      "source": [
        "def load_image_2D(abs_path): #, labels\n",
        "  ''' Load an image (.nii) and its label, from its absolute path.\n",
        "      Transform it into a 2D image, by obtaining 16 slices and placing them\n",
        "      in a 4x4 two-dimensional grid.\n",
        "      \n",
        "      Parameters:\n",
        "        abs_path -- Absolute path, filename included\n",
        "        labels -- Label mapper\n",
        "        \n",
        "      Returns:\n",
        "        img -- The .nii image, converted into a numpy array\n",
        "        label -- The label of the image (from argument 'labels')\n",
        "        \n",
        "  '''\n",
        "  \n",
        "  # obtain the label from the path (it is the last directory name)\n",
        "  #label = labels[abs_path.split('/')[-2]]\n",
        "  \n",
        "  # load the image with SimpleITK\n",
        "  sitk_image = sitk.ReadImage(abs_path)\n",
        "  \n",
        "  # transform into a numpy array\n",
        "  img = sitk.GetArrayFromImage(sitk_image)\n",
        "  \n",
        "  # apply whitening\n",
        "  img = preprocessing.whitening(img)\n",
        "  \n",
        "  # make the 2D image\n",
        "  img = slices_matrix_2D(img)\n",
        "  \n",
        "  return img"
      ]
    },
    {
      "cell_type": "code",
      "execution_count": 11,
      "metadata": {
        "id": "BEymomORoKlv"
      },
      "outputs": [],
      "source": [
        "def gz_extract(zipfile):\n",
        "    file_name = (os.path.basename(zipfile)).rsplit('.',1)[0] #get file name for file within\n",
        "    with gzip.open(zipfile,\"rb\") as f_in, open(f\"{zipfile.split('/')[0]}/{file_name}\",\"wb\") as f_out:\n",
        "        shutil.copyfileobj(f_in, f_out)\n",
        "    os.remove(zipfile) # delete zipped file\n",
        "    # return f\"{zipfile.split('/')[0]}/{file_name}\""
      ]
    },
    {
      "cell_type": "code",
      "execution_count": 12,
      "metadata": {
        "id": "isMjr3IxoOJX"
      },
      "outputs": [],
      "source": [
        "def _bytes_feature(value):\n",
        "    \"\"\"Returns a bytes_list from a string / byte.\"\"\"\n",
        "    if isinstance(value, type(tf.constant(0))): # if value ist tensor\n",
        "        value = value.numpy() # get value of tensor\n",
        "    return tf.train.Feature(bytes_list=tf.train.BytesList(value=[value]))\n",
        "\n",
        "def _float_feature(value):\n",
        "  \"\"\"Returns a floast_list from a float / double.\"\"\"\n",
        "  return tf.train.Feature(float_list=tf.train.FloatList(value=[value]))\n",
        "\n",
        "def _int64_feature(value):\n",
        "  \"\"\"Returns an int64_list from a bool / enum / int / uint.\"\"\"\n",
        "  return tf.train.Feature(int64_list=tf.train.Int64List(value=[value]))\n",
        "\n",
        "def serialize_array(array):\n",
        "  array = tf.io.serialize_tensor(array)\n",
        "  return array"
      ]
    },
    {
      "cell_type": "code",
      "execution_count": 13,
      "metadata": {
        "id": "4BXkEMX7oPqQ"
      },
      "outputs": [],
      "source": [
        "def write_tfrecords(x, y, filename):\n",
        "    writer = tf.io.TFRecordWriter(filename)\n",
        "\n",
        "    for image, label in zip(x, y):\n",
        "        example = tf.train.Example(features=tf.train.Features(\n",
        "            feature={\n",
        "                'image': _bytes_feature(serialize_array(image)), #tf.train.Feature(bytes_list=tf.train.BytesList(value=[image.tobytes()])),\n",
        "                'label': _int64_feature(label) #tf.train.Feature(int64_list=tf.train.Int64List(value=[label])),\n",
        "            }))\n",
        "        writer.write(example.SerializeToString())\n"
      ]
    },
    {
      "cell_type": "code",
      "execution_count": 14,
      "metadata": {
        "id": "pQG6BNv_oRrv"
      },
      "outputs": [],
      "source": [
        "def _parse_image_function(example_proto):\n",
        "    image_feature_description = {\n",
        "        'image': tf.io.FixedLenFeature([], tf.string),\n",
        "        'label': tf.io.FixedLenFeature([], tf.int64),\n",
        "    }\n",
        "    features = tf.io.parse_single_example(example_proto, image_feature_description)\n",
        "    image = tf.io.parse_tensor(features['image'], out_type=tf.double) #tf.io.decode_raw(features['image'], tf.float32) \n",
        "   # image.set_shape([3 * 344 * 440])\n",
        "    image = tf.reshape(image, [344, 440, 3])\n",
        "\n",
        "    label = tf.cast(features['label'], tf.int32)\n",
        "    label = tf.one_hot(features['label'], 3)\n",
        "\n",
        "    return image, label"
      ]
    },
    {
      "cell_type": "code",
      "execution_count": 15,
      "metadata": {
        "id": "lPhFKsOooT6o"
      },
      "outputs": [],
      "source": [
        "def read_dataset(epochs, batch_size, filename):\n",
        "\n",
        "    # filenames = [os.path.join(channel, channel_name + '.tfrecords')]\n",
        "    dataset = tf.data.TFRecordDataset(filename)\n",
        "\n",
        "    dataset = dataset.map(_parse_image_function, num_parallel_calls=10)\n",
        "    dataset = dataset.shuffle(buffer_size=10 * batch_size)               ##1\n",
        "    dataset = dataset.repeat(epochs)                                     ##2\n",
        "    dataset = dataset.batch(batch_size, drop_remainder=True)             ##3\n",
        "    dataset = dataset.prefetch(batch_size)                               ##4\n",
        "\n",
        "    return dataset"
      ]
    },
    {
      "cell_type": "code",
      "execution_count": null,
      "metadata": {
        "colab": {
          "base_uri": "https://localhost:8080/"
        },
        "id": "1AxBmHUQoXog",
        "outputId": "ae5451d5-c35d-4984-a0fb-8dbae2d4a5b7"
      },
      "outputs": [
        {
          "name": "stdout",
          "output_type": "stream",
          "text": [
            "[]\n",
            "[]\n"
          ]
        }
      ],
      "source": [
        "categories = ['CN', 'MCI', 'AD']\n",
        "category_dict = {'CN':0, 'MCI':1, 'AD':2}\n",
        "nifti_files = []\n",
        "labels = []\n",
        "\n",
        "newpath = f\"./Nifti_files/\"\n",
        "for category in categories:\n",
        "    path = f\"./{category}/\"   \n",
        "# r=root, d=directories, f = files\n",
        "    for r, d, f in os.walk(path):\n",
        "        for file in f:\n",
        "            if '.nii' in file:\n",
        "                nifti_files.append(os.path.join(r, file))\n",
        "                label = category_dict[category]#0 if category=='CN' else 1 if category=='MCI' else 2\n",
        "                labels.append(label)\n",
        "                \n",
        "print(nifti_files[0:5])\n",
        "print(labels[0:5])"
      ]
    },
    {
      "cell_type": "code",
      "execution_count": null,
      "metadata": {
        "id": "Am0uzvigobrI"
      },
      "outputs": [],
      "source": [
        "atlas = sitk.ReadImage('average305_t1_tal_lin_mask.nii')\n",
        "atlas = resample_img(atlas)"
      ]
    },
    {
      "cell_type": "code",
      "execution_count": null,
      "metadata": {
        "id": "unmskzWUocUA"
      },
      "outputs": [],
      "source": [
        "atlas_array = sitk.GetArrayFromImage(atlas)\n",
        "plt.imshow(atlas_array[:, :, 70], cmap='gray')\n",
        "plt.show()"
      ]
    },
    {
      "cell_type": "code",
      "execution_count": null,
      "metadata": {
        "id": "Tuevr65ioeM_"
      },
      "outputs": [],
      "source": [
        "#res = resample_img(nifti_files[0], out_spacing=[2.0, 2.0, 2.0])\n",
        "\n",
        "for image in nifti_files:\n",
        "    sitk_image = sitk.ReadImage(image)\n",
        "# transform into a numpy array\n",
        "    sitk_array = sitk.GetArrayFromImage(sitk_image)\n",
        "    \n",
        "    res_image = resample_img(sitk_image)\n",
        "    res_array = sitk.GetArrayFromImage(res_image)\n",
        "    res_array = preprocessing.resize_image_with_crop_or_pad(res_array, img_size=(128, 192, 192), mode='symmetric')\n",
        "    res_array = preprocessing.whitening(res_array)\n",
        "    \n",
        "    registrated_image = registrate(atlas, res_image, bspline=False)\n",
        "    sitk.WriteImage(registrated_image, f\"Registrated/{image.split('/')[-1]}_registrated.nii\")\n",
        "    \n",
        "    registrated_image = sitk.ReadImage(f\"Registrated/{image.split('/')[-1]}_registrated.nii\")\n",
        "    registrated_array = sitk.GetArrayFromImage(registrated_image)\n",
        "    \n",
        "    skull_strip_nii(f\"Registrated/{image.split('/')[-1]}_registrated.nii\", f\"Skull_Stripped/{image.split('/')[-1]}_stripped.nii\", frac=0.2)\n",
        "    gz_extract(f\"Skull_Stripped/{image.split('/')[-1]}_stripped.nii.gz\")\n",
        "\n"
      ]
    },
    {
      "cell_type": "code",
      "execution_count": null,
      "metadata": {
        "id": "ZsWOoCEEohyw"
      },
      "outputs": [],
      "source": [
        "ss_images = os.listdir('Skull_Stripped')\n",
        "\n",
        "for image in ss_images:\n",
        "    image_2d = load_image_2D(f\"Skull_Stripped/{image}\")\n",
        " #   print(image_2d.shape)\n",
        "    np.save(f\"Image_2d/{image.split('/')[-1]}_2d\", image_2d)"
      ]
    },
    {
      "cell_type": "code",
      "execution_count": 16,
      "metadata": {
        "id": "jfEM6gAGoijA"
      },
      "outputs": [],
      "source": [
        "image_array = []\n",
        "label_array = []\n",
        "train_array = [\"CN_TRAIN_Image2D\", \"MCI_TRAIN_Image2D\", \"AD_TRAIN_Image2D\"]\n",
        "\n",
        "for folder in train_array:\n",
        "  for filename in os.listdir(folder):\n",
        "    if filename.endswith('.npy'):\n",
        "      image_array.append(np.load(f\"{folder}/{filename}\")) \n",
        "      label_array.append(0 if 'CN' in folder else 1 if 'MCI' in folder else 2)\n",
        "        \n",
        "image_array = np.array(image_array)"
      ]
    },
    {
      "cell_type": "code",
      "execution_count": null,
      "metadata": {
        "colab": {
          "base_uri": "https://localhost:8080/"
        },
        "id": "IHX559wYok_o",
        "outputId": "2d5cff17-3648-40b8-8fdd-301c03edc805"
      },
      "outputs": [
        {
          "name": "stdout",
          "output_type": "stream",
          "text": [
            "(1264, 344, 440, 3)\n",
            "dict_keys([0, 1, 2])\n",
            "dict_values([481, 493, 290])\n"
          ]
        }
      ],
      "source": [
        "print(image_array.shape)\n",
        "print(Counter(label_array).keys()) # equals to list(set(words))\n",
        "print(Counter(label_array).values()) # counts the elements' frequency"
      ]
    },
    {
      "cell_type": "code",
      "execution_count": null,
      "metadata": {
        "id": "P7B6K7ikonB4"
      },
      "outputs": [],
      "source": [
        "write_tfrecords(image_array, label_array, \"./train.tfrecords\")"
      ]
    },
    {
      "cell_type": "code",
      "execution_count": 17,
      "metadata": {
        "id": "HcJkleTUoqBQ"
      },
      "outputs": [],
      "source": [
        "Train = read_dataset(10, 50, './train.tfrecords') #image_array.shape[0]"
      ]
    },
    {
      "cell_type": "code",
      "execution_count": 18,
      "metadata": {
        "colab": {
          "base_uri": "https://localhost:8080/"
        },
        "id": "cx5U3sEUosMw",
        "outputId": "d25d9646-ce10-433e-c141-d021e82df801"
      },
      "outputs": [
        {
          "output_type": "execute_result",
          "data": {
            "text/plain": [
              "<PrefetchDataset element_spec=(TensorSpec(shape=(50, 344, 440, 3), dtype=tf.float64, name=None), TensorSpec(shape=(50, 3), dtype=tf.float32, name=None))>"
            ]
          },
          "metadata": {},
          "execution_count": 18
        }
      ],
      "source": [
        "Train"
      ]
    },
    {
      "cell_type": "code",
      "execution_count": null,
      "metadata": {
        "id": "MUsQAqQXouD4"
      },
      "outputs": [],
      "source": [
        "image_val_array = []\n",
        "label_val_array = []\n",
        "val_array = [\"CN_VAL_Image2D\", \"MCI_VAL_Image2D\", \"AD_VAL_Image2D\"]\n",
        "\n",
        "for folder in val_array:\n",
        "  for filename in os.listdir(folder):\n",
        "    if filename.endswith('.npy'):\n",
        "      image_val_array.append(np.load(f\"{folder}/{filename}\")) \n",
        "      label_val_array.append(0 if 'CN' in folder else 1 if 'MCI' in folder else 2)\n",
        "        \n",
        "image_val_array = np.array(image_val_array)"
      ]
    },
    {
      "cell_type": "code",
      "execution_count": null,
      "metadata": {
        "colab": {
          "base_uri": "https://localhost:8080/"
        },
        "id": "pZ9b4U-pov54",
        "outputId": "4aec95f6-5e16-457c-c208-a3a7bc04f55d"
      },
      "outputs": [
        {
          "name": "stdout",
          "output_type": "stream",
          "text": [
            "(350, 344, 440, 3)\n",
            "dict_keys([0, 1, 2])\n",
            "dict_values([125, 154, 71])\n"
          ]
        }
      ],
      "source": [
        "print(image_val_array.shape)\n",
        "print(Counter(label_val_array).keys()) # equals to list(set(words))\n",
        "print(Counter(label_val_array).values()) # counts the elements' frequency"
      ]
    },
    {
      "cell_type": "code",
      "execution_count": null,
      "metadata": {
        "id": "PQylC0mSoxvg"
      },
      "outputs": [],
      "source": [
        "write_tfrecords(image_val_array, label_val_array, \"./val.tfrecords\")"
      ]
    },
    {
      "cell_type": "code",
      "execution_count": 19,
      "metadata": {
        "id": "GzqM-NG5o0Tv"
      },
      "outputs": [],
      "source": [
        "Validation = read_dataset(10, 50, './val.tfrecords') #image_val_array.shape[0]"
      ]
    },
    {
      "cell_type": "code",
      "execution_count": 20,
      "metadata": {
        "colab": {
          "base_uri": "https://localhost:8080/"
        },
        "id": "-1gtlUtIo2l4",
        "outputId": "53480370-3f0a-42d1-def8-8a8922d76a64"
      },
      "outputs": [
        {
          "output_type": "execute_result",
          "data": {
            "text/plain": [
              "<PrefetchDataset element_spec=(TensorSpec(shape=(50, 344, 440, 3), dtype=tf.float64, name=None), TensorSpec(shape=(50, 3), dtype=tf.float32, name=None))>"
            ]
          },
          "metadata": {},
          "execution_count": 20
        }
      ],
      "source": [
        "Validation"
      ]
    },
    {
      "cell_type": "code",
      "execution_count": 38,
      "metadata": {
        "id": "eYu1kRcAZKbu"
      },
      "outputs": [],
      "source": [
        "image_test_array = []\n",
        "label_test_array = []\n",
        "test_array = [\"CN_TEST_Image2D\", \"MCI_TEST_Image2D\", \"AD_TEST_Image2D\"]\n",
        "\n",
        "for folder in test_array:\n",
        "  for filename in os.listdir(folder):\n",
        "    if filename.endswith('.npy'):\n",
        "      image_test_array.append(np.load(f\"{folder}/{filename}\")) \n",
        "      label_test_array.append(0 if 'CN' in folder else 1 if 'MCI' in folder else 2)\n",
        "        \n",
        "image_test_array = np.array(image_test_array)"
      ]
    },
    {
      "cell_type": "code",
      "execution_count": null,
      "metadata": {
        "colab": {
          "base_uri": "https://localhost:8080/"
        },
        "id": "FylZx2gFZntS",
        "outputId": "f1506a60-18f9-4957-8a59-082fe4422ab3"
      },
      "outputs": [
        {
          "name": "stdout",
          "output_type": "stream",
          "text": [
            "(437, 344, 440, 3)\n",
            "dict_keys([0, 1, 2])\n",
            "dict_values([139, 204, 94])\n"
          ]
        }
      ],
      "source": [
        "print(image_test_array.shape)\n",
        "print(Counter(label_test_array).keys()) # equals to list(set(words))\n",
        "print(Counter(label_test_array).values())"
      ]
    },
    {
      "cell_type": "code",
      "execution_count": null,
      "metadata": {
        "id": "Gydh5gjaZuG3"
      },
      "outputs": [],
      "source": [
        "write_tfrecords(image_test_array, label_test_array, \"./test.tfrecords\")"
      ]
    },
    {
      "cell_type": "code",
      "execution_count": 21,
      "metadata": {
        "id": "3Rr9ZDb-Zw5P"
      },
      "outputs": [],
      "source": [
        "Test = read_dataset(10, 50, './test.tfrecords')"
      ]
    },
    {
      "cell_type": "code",
      "execution_count": 22,
      "metadata": {
        "colab": {
          "base_uri": "https://localhost:8080/"
        },
        "id": "0uy5r10XZ4uG",
        "outputId": "2d159f2d-745f-4bef-b00a-79f1877ec30f"
      },
      "outputs": [
        {
          "output_type": "execute_result",
          "data": {
            "text/plain": [
              "<PrefetchDataset element_spec=(TensorSpec(shape=(50, 344, 440, 3), dtype=tf.float64, name=None), TensorSpec(shape=(50, 3), dtype=tf.float32, name=None))>"
            ]
          },
          "metadata": {},
          "execution_count": 22
        }
      ],
      "source": [
        "Test"
      ]
    },
    {
      "cell_type": "code",
      "execution_count": 23,
      "metadata": {
        "id": "pwFvnHOzo5pg",
        "colab": {
          "base_uri": "https://localhost:8080/"
        },
        "outputId": "e4cb600a-e239-4d85-8c8a-0951c9d30552"
      },
      "outputs": [
        {
          "output_type": "stream",
          "name": "stdout",
          "text": [
            "Downloading data from https://storage.googleapis.com/tensorflow/keras-applications/inception_v3/inception_v3_weights_tf_dim_ordering_tf_kernels_notop.h5\n",
            "87910968/87910968 [==============================] - 0s 0us/step\n"
          ]
        }
      ],
      "source": [
        "base_model = tf.keras.applications.inception_v3.InceptionV3(\n",
        "    input_shape=(344, 440, 3), \n",
        "    weights='imagenet', \n",
        "    include_top=False,\n",
        "    pooling='avg') #'max'\n",
        "base_model.trainable = False\n",
        "\n",
        "base_output = base_model.output\n",
        "hidden_layer = tf.keras.layers.Dense(512, activation='relu')(base_output) #512 \n",
        "#hl_reg = tf.keras.layers.Dropout(0.5)(hidden_layer) #\n",
        "\n",
        "\n",
        "output_layer = tf.keras.layers.Dense(N_CLASSES, activation='softmax')(hidden_layer)\n",
        "inception_model = tf.keras.models.Model(inputs=base_model.input, outputs=output_layer)\n",
        "\n",
        "# for layer in base_model.layers:\n",
        "#     layer.trainable = False\n",
        "\n",
        "# compile the model \n",
        "optimizer = tf.keras.optimizers.Adam(learning_rate=0.001, decay=1e-6) #0.0001\n",
        "\n",
        "METRICS = [\n",
        "      tf.keras.metrics.AUC(name='auc'),\n",
        "      tf.keras.metrics.AUC(name='prc', curve='PR'), #precision-recall curve\n",
        "      tf.keras.metrics.CategoricalAccuracy(name='categorical accuracy'),\n",
        "      tf.keras.metrics.Precision(name='precision'),\n",
        "      tf.keras.metrics.Recall(name='recall'),\n",
        "\n",
        "]\n",
        "\n",
        "inception_model.compile(optimizer=optimizer, loss='categorical_crossentropy', metrics=METRICS) #, 'recall'"
      ]
    },
    {
      "cell_type": "code",
      "execution_count": 24,
      "metadata": {
        "colab": {
          "base_uri": "https://localhost:8080/"
        },
        "id": "ErNlSMC2o-Ww",
        "outputId": "4276c947-97b0-4085-900e-695a52cde21f"
      },
      "outputs": [
        {
          "output_type": "stream",
          "name": "stdout",
          "text": [
            "Model: \"model\"\n",
            "__________________________________________________________________________________________________\n",
            " Layer (type)                   Output Shape         Param #     Connected to                     \n",
            "==================================================================================================\n",
            " input_1 (InputLayer)           [(None, 344, 440, 3  0           []                               \n",
            "                                )]                                                                \n",
            "                                                                                                  \n",
            " conv2d (Conv2D)                (None, 171, 219, 32  864         ['input_1[0][0]']                \n",
            "                                )                                                                 \n",
            "                                                                                                  \n",
            " batch_normalization (BatchNorm  (None, 171, 219, 32  96         ['conv2d[0][0]']                 \n",
            " alization)                     )                                                                 \n",
            "                                                                                                  \n",
            " activation (Activation)        (None, 171, 219, 32  0           ['batch_normalization[0][0]']    \n",
            "                                )                                                                 \n",
            "                                                                                                  \n",
            " conv2d_1 (Conv2D)              (None, 169, 217, 32  9216        ['activation[0][0]']             \n",
            "                                )                                                                 \n",
            "                                                                                                  \n",
            " batch_normalization_1 (BatchNo  (None, 169, 217, 32  96         ['conv2d_1[0][0]']               \n",
            " rmalization)                   )                                                                 \n",
            "                                                                                                  \n",
            " activation_1 (Activation)      (None, 169, 217, 32  0           ['batch_normalization_1[0][0]']  \n",
            "                                )                                                                 \n",
            "                                                                                                  \n",
            " conv2d_2 (Conv2D)              (None, 169, 217, 64  18432       ['activation_1[0][0]']           \n",
            "                                )                                                                 \n",
            "                                                                                                  \n",
            " batch_normalization_2 (BatchNo  (None, 169, 217, 64  192        ['conv2d_2[0][0]']               \n",
            " rmalization)                   )                                                                 \n",
            "                                                                                                  \n",
            " activation_2 (Activation)      (None, 169, 217, 64  0           ['batch_normalization_2[0][0]']  \n",
            "                                )                                                                 \n",
            "                                                                                                  \n",
            " max_pooling2d (MaxPooling2D)   (None, 84, 108, 64)  0           ['activation_2[0][0]']           \n",
            "                                                                                                  \n",
            " conv2d_3 (Conv2D)              (None, 84, 108, 80)  5120        ['max_pooling2d[0][0]']          \n",
            "                                                                                                  \n",
            " batch_normalization_3 (BatchNo  (None, 84, 108, 80)  240        ['conv2d_3[0][0]']               \n",
            " rmalization)                                                                                     \n",
            "                                                                                                  \n",
            " activation_3 (Activation)      (None, 84, 108, 80)  0           ['batch_normalization_3[0][0]']  \n",
            "                                                                                                  \n",
            " conv2d_4 (Conv2D)              (None, 82, 106, 192  138240      ['activation_3[0][0]']           \n",
            "                                )                                                                 \n",
            "                                                                                                  \n",
            " batch_normalization_4 (BatchNo  (None, 82, 106, 192  576        ['conv2d_4[0][0]']               \n",
            " rmalization)                   )                                                                 \n",
            "                                                                                                  \n",
            " activation_4 (Activation)      (None, 82, 106, 192  0           ['batch_normalization_4[0][0]']  \n",
            "                                )                                                                 \n",
            "                                                                                                  \n",
            " max_pooling2d_1 (MaxPooling2D)  (None, 40, 52, 192)  0          ['activation_4[0][0]']           \n",
            "                                                                                                  \n",
            " conv2d_8 (Conv2D)              (None, 40, 52, 64)   12288       ['max_pooling2d_1[0][0]']        \n",
            "                                                                                                  \n",
            " batch_normalization_8 (BatchNo  (None, 40, 52, 64)  192         ['conv2d_8[0][0]']               \n",
            " rmalization)                                                                                     \n",
            "                                                                                                  \n",
            " activation_8 (Activation)      (None, 40, 52, 64)   0           ['batch_normalization_8[0][0]']  \n",
            "                                                                                                  \n",
            " conv2d_6 (Conv2D)              (None, 40, 52, 48)   9216        ['max_pooling2d_1[0][0]']        \n",
            "                                                                                                  \n",
            " conv2d_9 (Conv2D)              (None, 40, 52, 96)   55296       ['activation_8[0][0]']           \n",
            "                                                                                                  \n",
            " batch_normalization_6 (BatchNo  (None, 40, 52, 48)  144         ['conv2d_6[0][0]']               \n",
            " rmalization)                                                                                     \n",
            "                                                                                                  \n",
            " batch_normalization_9 (BatchNo  (None, 40, 52, 96)  288         ['conv2d_9[0][0]']               \n",
            " rmalization)                                                                                     \n",
            "                                                                                                  \n",
            " activation_6 (Activation)      (None, 40, 52, 48)   0           ['batch_normalization_6[0][0]']  \n",
            "                                                                                                  \n",
            " activation_9 (Activation)      (None, 40, 52, 96)   0           ['batch_normalization_9[0][0]']  \n",
            "                                                                                                  \n",
            " average_pooling2d (AveragePool  (None, 40, 52, 192)  0          ['max_pooling2d_1[0][0]']        \n",
            " ing2D)                                                                                           \n",
            "                                                                                                  \n",
            " conv2d_5 (Conv2D)              (None, 40, 52, 64)   12288       ['max_pooling2d_1[0][0]']        \n",
            "                                                                                                  \n",
            " conv2d_7 (Conv2D)              (None, 40, 52, 64)   76800       ['activation_6[0][0]']           \n",
            "                                                                                                  \n",
            " conv2d_10 (Conv2D)             (None, 40, 52, 96)   82944       ['activation_9[0][0]']           \n",
            "                                                                                                  \n",
            " conv2d_11 (Conv2D)             (None, 40, 52, 32)   6144        ['average_pooling2d[0][0]']      \n",
            "                                                                                                  \n",
            " batch_normalization_5 (BatchNo  (None, 40, 52, 64)  192         ['conv2d_5[0][0]']               \n",
            " rmalization)                                                                                     \n",
            "                                                                                                  \n",
            " batch_normalization_7 (BatchNo  (None, 40, 52, 64)  192         ['conv2d_7[0][0]']               \n",
            " rmalization)                                                                                     \n",
            "                                                                                                  \n",
            " batch_normalization_10 (BatchN  (None, 40, 52, 96)  288         ['conv2d_10[0][0]']              \n",
            " ormalization)                                                                                    \n",
            "                                                                                                  \n",
            " batch_normalization_11 (BatchN  (None, 40, 52, 32)  96          ['conv2d_11[0][0]']              \n",
            " ormalization)                                                                                    \n",
            "                                                                                                  \n",
            " activation_5 (Activation)      (None, 40, 52, 64)   0           ['batch_normalization_5[0][0]']  \n",
            "                                                                                                  \n",
            " activation_7 (Activation)      (None, 40, 52, 64)   0           ['batch_normalization_7[0][0]']  \n",
            "                                                                                                  \n",
            " activation_10 (Activation)     (None, 40, 52, 96)   0           ['batch_normalization_10[0][0]'] \n",
            "                                                                                                  \n",
            " activation_11 (Activation)     (None, 40, 52, 32)   0           ['batch_normalization_11[0][0]'] \n",
            "                                                                                                  \n",
            " mixed0 (Concatenate)           (None, 40, 52, 256)  0           ['activation_5[0][0]',           \n",
            "                                                                  'activation_7[0][0]',           \n",
            "                                                                  'activation_10[0][0]',          \n",
            "                                                                  'activation_11[0][0]']          \n",
            "                                                                                                  \n",
            " conv2d_15 (Conv2D)             (None, 40, 52, 64)   16384       ['mixed0[0][0]']                 \n",
            "                                                                                                  \n",
            " batch_normalization_15 (BatchN  (None, 40, 52, 64)  192         ['conv2d_15[0][0]']              \n",
            " ormalization)                                                                                    \n",
            "                                                                                                  \n",
            " activation_15 (Activation)     (None, 40, 52, 64)   0           ['batch_normalization_15[0][0]'] \n",
            "                                                                                                  \n",
            " conv2d_13 (Conv2D)             (None, 40, 52, 48)   12288       ['mixed0[0][0]']                 \n",
            "                                                                                                  \n",
            " conv2d_16 (Conv2D)             (None, 40, 52, 96)   55296       ['activation_15[0][0]']          \n",
            "                                                                                                  \n",
            " batch_normalization_13 (BatchN  (None, 40, 52, 48)  144         ['conv2d_13[0][0]']              \n",
            " ormalization)                                                                                    \n",
            "                                                                                                  \n",
            " batch_normalization_16 (BatchN  (None, 40, 52, 96)  288         ['conv2d_16[0][0]']              \n",
            " ormalization)                                                                                    \n",
            "                                                                                                  \n",
            " activation_13 (Activation)     (None, 40, 52, 48)   0           ['batch_normalization_13[0][0]'] \n",
            "                                                                                                  \n",
            " activation_16 (Activation)     (None, 40, 52, 96)   0           ['batch_normalization_16[0][0]'] \n",
            "                                                                                                  \n",
            " average_pooling2d_1 (AveragePo  (None, 40, 52, 256)  0          ['mixed0[0][0]']                 \n",
            " oling2D)                                                                                         \n",
            "                                                                                                  \n",
            " conv2d_12 (Conv2D)             (None, 40, 52, 64)   16384       ['mixed0[0][0]']                 \n",
            "                                                                                                  \n",
            " conv2d_14 (Conv2D)             (None, 40, 52, 64)   76800       ['activation_13[0][0]']          \n",
            "                                                                                                  \n",
            " conv2d_17 (Conv2D)             (None, 40, 52, 96)   82944       ['activation_16[0][0]']          \n",
            "                                                                                                  \n",
            " conv2d_18 (Conv2D)             (None, 40, 52, 64)   16384       ['average_pooling2d_1[0][0]']    \n",
            "                                                                                                  \n",
            " batch_normalization_12 (BatchN  (None, 40, 52, 64)  192         ['conv2d_12[0][0]']              \n",
            " ormalization)                                                                                    \n",
            "                                                                                                  \n",
            " batch_normalization_14 (BatchN  (None, 40, 52, 64)  192         ['conv2d_14[0][0]']              \n",
            " ormalization)                                                                                    \n",
            "                                                                                                  \n",
            " batch_normalization_17 (BatchN  (None, 40, 52, 96)  288         ['conv2d_17[0][0]']              \n",
            " ormalization)                                                                                    \n",
            "                                                                                                  \n",
            " batch_normalization_18 (BatchN  (None, 40, 52, 64)  192         ['conv2d_18[0][0]']              \n",
            " ormalization)                                                                                    \n",
            "                                                                                                  \n",
            " activation_12 (Activation)     (None, 40, 52, 64)   0           ['batch_normalization_12[0][0]'] \n",
            "                                                                                                  \n",
            " activation_14 (Activation)     (None, 40, 52, 64)   0           ['batch_normalization_14[0][0]'] \n",
            "                                                                                                  \n",
            " activation_17 (Activation)     (None, 40, 52, 96)   0           ['batch_normalization_17[0][0]'] \n",
            "                                                                                                  \n",
            " activation_18 (Activation)     (None, 40, 52, 64)   0           ['batch_normalization_18[0][0]'] \n",
            "                                                                                                  \n",
            " mixed1 (Concatenate)           (None, 40, 52, 288)  0           ['activation_12[0][0]',          \n",
            "                                                                  'activation_14[0][0]',          \n",
            "                                                                  'activation_17[0][0]',          \n",
            "                                                                  'activation_18[0][0]']          \n",
            "                                                                                                  \n",
            " conv2d_22 (Conv2D)             (None, 40, 52, 64)   18432       ['mixed1[0][0]']                 \n",
            "                                                                                                  \n",
            " batch_normalization_22 (BatchN  (None, 40, 52, 64)  192         ['conv2d_22[0][0]']              \n",
            " ormalization)                                                                                    \n",
            "                                                                                                  \n",
            " activation_22 (Activation)     (None, 40, 52, 64)   0           ['batch_normalization_22[0][0]'] \n",
            "                                                                                                  \n",
            " conv2d_20 (Conv2D)             (None, 40, 52, 48)   13824       ['mixed1[0][0]']                 \n",
            "                                                                                                  \n",
            " conv2d_23 (Conv2D)             (None, 40, 52, 96)   55296       ['activation_22[0][0]']          \n",
            "                                                                                                  \n",
            " batch_normalization_20 (BatchN  (None, 40, 52, 48)  144         ['conv2d_20[0][0]']              \n",
            " ormalization)                                                                                    \n",
            "                                                                                                  \n",
            " batch_normalization_23 (BatchN  (None, 40, 52, 96)  288         ['conv2d_23[0][0]']              \n",
            " ormalization)                                                                                    \n",
            "                                                                                                  \n",
            " activation_20 (Activation)     (None, 40, 52, 48)   0           ['batch_normalization_20[0][0]'] \n",
            "                                                                                                  \n",
            " activation_23 (Activation)     (None, 40, 52, 96)   0           ['batch_normalization_23[0][0]'] \n",
            "                                                                                                  \n",
            " average_pooling2d_2 (AveragePo  (None, 40, 52, 288)  0          ['mixed1[0][0]']                 \n",
            " oling2D)                                                                                         \n",
            "                                                                                                  \n",
            " conv2d_19 (Conv2D)             (None, 40, 52, 64)   18432       ['mixed1[0][0]']                 \n",
            "                                                                                                  \n",
            " conv2d_21 (Conv2D)             (None, 40, 52, 64)   76800       ['activation_20[0][0]']          \n",
            "                                                                                                  \n",
            " conv2d_24 (Conv2D)             (None, 40, 52, 96)   82944       ['activation_23[0][0]']          \n",
            "                                                                                                  \n",
            " conv2d_25 (Conv2D)             (None, 40, 52, 64)   18432       ['average_pooling2d_2[0][0]']    \n",
            "                                                                                                  \n",
            " batch_normalization_19 (BatchN  (None, 40, 52, 64)  192         ['conv2d_19[0][0]']              \n",
            " ormalization)                                                                                    \n",
            "                                                                                                  \n",
            " batch_normalization_21 (BatchN  (None, 40, 52, 64)  192         ['conv2d_21[0][0]']              \n",
            " ormalization)                                                                                    \n",
            "                                                                                                  \n",
            " batch_normalization_24 (BatchN  (None, 40, 52, 96)  288         ['conv2d_24[0][0]']              \n",
            " ormalization)                                                                                    \n",
            "                                                                                                  \n",
            " batch_normalization_25 (BatchN  (None, 40, 52, 64)  192         ['conv2d_25[0][0]']              \n",
            " ormalization)                                                                                    \n",
            "                                                                                                  \n",
            " activation_19 (Activation)     (None, 40, 52, 64)   0           ['batch_normalization_19[0][0]'] \n",
            "                                                                                                  \n",
            " activation_21 (Activation)     (None, 40, 52, 64)   0           ['batch_normalization_21[0][0]'] \n",
            "                                                                                                  \n",
            " activation_24 (Activation)     (None, 40, 52, 96)   0           ['batch_normalization_24[0][0]'] \n",
            "                                                                                                  \n",
            " activation_25 (Activation)     (None, 40, 52, 64)   0           ['batch_normalization_25[0][0]'] \n",
            "                                                                                                  \n",
            " mixed2 (Concatenate)           (None, 40, 52, 288)  0           ['activation_19[0][0]',          \n",
            "                                                                  'activation_21[0][0]',          \n",
            "                                                                  'activation_24[0][0]',          \n",
            "                                                                  'activation_25[0][0]']          \n",
            "                                                                                                  \n",
            " conv2d_27 (Conv2D)             (None, 40, 52, 64)   18432       ['mixed2[0][0]']                 \n",
            "                                                                                                  \n",
            " batch_normalization_27 (BatchN  (None, 40, 52, 64)  192         ['conv2d_27[0][0]']              \n",
            " ormalization)                                                                                    \n",
            "                                                                                                  \n",
            " activation_27 (Activation)     (None, 40, 52, 64)   0           ['batch_normalization_27[0][0]'] \n",
            "                                                                                                  \n",
            " conv2d_28 (Conv2D)             (None, 40, 52, 96)   55296       ['activation_27[0][0]']          \n",
            "                                                                                                  \n",
            " batch_normalization_28 (BatchN  (None, 40, 52, 96)  288         ['conv2d_28[0][0]']              \n",
            " ormalization)                                                                                    \n",
            "                                                                                                  \n",
            " activation_28 (Activation)     (None, 40, 52, 96)   0           ['batch_normalization_28[0][0]'] \n",
            "                                                                                                  \n",
            " conv2d_26 (Conv2D)             (None, 19, 25, 384)  995328      ['mixed2[0][0]']                 \n",
            "                                                                                                  \n",
            " conv2d_29 (Conv2D)             (None, 19, 25, 96)   82944       ['activation_28[0][0]']          \n",
            "                                                                                                  \n",
            " batch_normalization_26 (BatchN  (None, 19, 25, 384)  1152       ['conv2d_26[0][0]']              \n",
            " ormalization)                                                                                    \n",
            "                                                                                                  \n",
            " batch_normalization_29 (BatchN  (None, 19, 25, 96)  288         ['conv2d_29[0][0]']              \n",
            " ormalization)                                                                                    \n",
            "                                                                                                  \n",
            " activation_26 (Activation)     (None, 19, 25, 384)  0           ['batch_normalization_26[0][0]'] \n",
            "                                                                                                  \n",
            " activation_29 (Activation)     (None, 19, 25, 96)   0           ['batch_normalization_29[0][0]'] \n",
            "                                                                                                  \n",
            " max_pooling2d_2 (MaxPooling2D)  (None, 19, 25, 288)  0          ['mixed2[0][0]']                 \n",
            "                                                                                                  \n",
            " mixed3 (Concatenate)           (None, 19, 25, 768)  0           ['activation_26[0][0]',          \n",
            "                                                                  'activation_29[0][0]',          \n",
            "                                                                  'max_pooling2d_2[0][0]']        \n",
            "                                                                                                  \n",
            " conv2d_34 (Conv2D)             (None, 19, 25, 128)  98304       ['mixed3[0][0]']                 \n",
            "                                                                                                  \n",
            " batch_normalization_34 (BatchN  (None, 19, 25, 128)  384        ['conv2d_34[0][0]']              \n",
            " ormalization)                                                                                    \n",
            "                                                                                                  \n",
            " activation_34 (Activation)     (None, 19, 25, 128)  0           ['batch_normalization_34[0][0]'] \n",
            "                                                                                                  \n",
            " conv2d_35 (Conv2D)             (None, 19, 25, 128)  114688      ['activation_34[0][0]']          \n",
            "                                                                                                  \n",
            " batch_normalization_35 (BatchN  (None, 19, 25, 128)  384        ['conv2d_35[0][0]']              \n",
            " ormalization)                                                                                    \n",
            "                                                                                                  \n",
            " activation_35 (Activation)     (None, 19, 25, 128)  0           ['batch_normalization_35[0][0]'] \n",
            "                                                                                                  \n",
            " conv2d_31 (Conv2D)             (None, 19, 25, 128)  98304       ['mixed3[0][0]']                 \n",
            "                                                                                                  \n",
            " conv2d_36 (Conv2D)             (None, 19, 25, 128)  114688      ['activation_35[0][0]']          \n",
            "                                                                                                  \n",
            " batch_normalization_31 (BatchN  (None, 19, 25, 128)  384        ['conv2d_31[0][0]']              \n",
            " ormalization)                                                                                    \n",
            "                                                                                                  \n",
            " batch_normalization_36 (BatchN  (None, 19, 25, 128)  384        ['conv2d_36[0][0]']              \n",
            " ormalization)                                                                                    \n",
            "                                                                                                  \n",
            " activation_31 (Activation)     (None, 19, 25, 128)  0           ['batch_normalization_31[0][0]'] \n",
            "                                                                                                  \n",
            " activation_36 (Activation)     (None, 19, 25, 128)  0           ['batch_normalization_36[0][0]'] \n",
            "                                                                                                  \n",
            " conv2d_32 (Conv2D)             (None, 19, 25, 128)  114688      ['activation_31[0][0]']          \n",
            "                                                                                                  \n",
            " conv2d_37 (Conv2D)             (None, 19, 25, 128)  114688      ['activation_36[0][0]']          \n",
            "                                                                                                  \n",
            " batch_normalization_32 (BatchN  (None, 19, 25, 128)  384        ['conv2d_32[0][0]']              \n",
            " ormalization)                                                                                    \n",
            "                                                                                                  \n",
            " batch_normalization_37 (BatchN  (None, 19, 25, 128)  384        ['conv2d_37[0][0]']              \n",
            " ormalization)                                                                                    \n",
            "                                                                                                  \n",
            " activation_32 (Activation)     (None, 19, 25, 128)  0           ['batch_normalization_32[0][0]'] \n",
            "                                                                                                  \n",
            " activation_37 (Activation)     (None, 19, 25, 128)  0           ['batch_normalization_37[0][0]'] \n",
            "                                                                                                  \n",
            " average_pooling2d_3 (AveragePo  (None, 19, 25, 768)  0          ['mixed3[0][0]']                 \n",
            " oling2D)                                                                                         \n",
            "                                                                                                  \n",
            " conv2d_30 (Conv2D)             (None, 19, 25, 192)  147456      ['mixed3[0][0]']                 \n",
            "                                                                                                  \n",
            " conv2d_33 (Conv2D)             (None, 19, 25, 192)  172032      ['activation_32[0][0]']          \n",
            "                                                                                                  \n",
            " conv2d_38 (Conv2D)             (None, 19, 25, 192)  172032      ['activation_37[0][0]']          \n",
            "                                                                                                  \n",
            " conv2d_39 (Conv2D)             (None, 19, 25, 192)  147456      ['average_pooling2d_3[0][0]']    \n",
            "                                                                                                  \n",
            " batch_normalization_30 (BatchN  (None, 19, 25, 192)  576        ['conv2d_30[0][0]']              \n",
            " ormalization)                                                                                    \n",
            "                                                                                                  \n",
            " batch_normalization_33 (BatchN  (None, 19, 25, 192)  576        ['conv2d_33[0][0]']              \n",
            " ormalization)                                                                                    \n",
            "                                                                                                  \n",
            " batch_normalization_38 (BatchN  (None, 19, 25, 192)  576        ['conv2d_38[0][0]']              \n",
            " ormalization)                                                                                    \n",
            "                                                                                                  \n",
            " batch_normalization_39 (BatchN  (None, 19, 25, 192)  576        ['conv2d_39[0][0]']              \n",
            " ormalization)                                                                                    \n",
            "                                                                                                  \n",
            " activation_30 (Activation)     (None, 19, 25, 192)  0           ['batch_normalization_30[0][0]'] \n",
            "                                                                                                  \n",
            " activation_33 (Activation)     (None, 19, 25, 192)  0           ['batch_normalization_33[0][0]'] \n",
            "                                                                                                  \n",
            " activation_38 (Activation)     (None, 19, 25, 192)  0           ['batch_normalization_38[0][0]'] \n",
            "                                                                                                  \n",
            " activation_39 (Activation)     (None, 19, 25, 192)  0           ['batch_normalization_39[0][0]'] \n",
            "                                                                                                  \n",
            " mixed4 (Concatenate)           (None, 19, 25, 768)  0           ['activation_30[0][0]',          \n",
            "                                                                  'activation_33[0][0]',          \n",
            "                                                                  'activation_38[0][0]',          \n",
            "                                                                  'activation_39[0][0]']          \n",
            "                                                                                                  \n",
            " conv2d_44 (Conv2D)             (None, 19, 25, 160)  122880      ['mixed4[0][0]']                 \n",
            "                                                                                                  \n",
            " batch_normalization_44 (BatchN  (None, 19, 25, 160)  480        ['conv2d_44[0][0]']              \n",
            " ormalization)                                                                                    \n",
            "                                                                                                  \n",
            " activation_44 (Activation)     (None, 19, 25, 160)  0           ['batch_normalization_44[0][0]'] \n",
            "                                                                                                  \n",
            " conv2d_45 (Conv2D)             (None, 19, 25, 160)  179200      ['activation_44[0][0]']          \n",
            "                                                                                                  \n",
            " batch_normalization_45 (BatchN  (None, 19, 25, 160)  480        ['conv2d_45[0][0]']              \n",
            " ormalization)                                                                                    \n",
            "                                                                                                  \n",
            " activation_45 (Activation)     (None, 19, 25, 160)  0           ['batch_normalization_45[0][0]'] \n",
            "                                                                                                  \n",
            " conv2d_41 (Conv2D)             (None, 19, 25, 160)  122880      ['mixed4[0][0]']                 \n",
            "                                                                                                  \n",
            " conv2d_46 (Conv2D)             (None, 19, 25, 160)  179200      ['activation_45[0][0]']          \n",
            "                                                                                                  \n",
            " batch_normalization_41 (BatchN  (None, 19, 25, 160)  480        ['conv2d_41[0][0]']              \n",
            " ormalization)                                                                                    \n",
            "                                                                                                  \n",
            " batch_normalization_46 (BatchN  (None, 19, 25, 160)  480        ['conv2d_46[0][0]']              \n",
            " ormalization)                                                                                    \n",
            "                                                                                                  \n",
            " activation_41 (Activation)     (None, 19, 25, 160)  0           ['batch_normalization_41[0][0]'] \n",
            "                                                                                                  \n",
            " activation_46 (Activation)     (None, 19, 25, 160)  0           ['batch_normalization_46[0][0]'] \n",
            "                                                                                                  \n",
            " conv2d_42 (Conv2D)             (None, 19, 25, 160)  179200      ['activation_41[0][0]']          \n",
            "                                                                                                  \n",
            " conv2d_47 (Conv2D)             (None, 19, 25, 160)  179200      ['activation_46[0][0]']          \n",
            "                                                                                                  \n",
            " batch_normalization_42 (BatchN  (None, 19, 25, 160)  480        ['conv2d_42[0][0]']              \n",
            " ormalization)                                                                                    \n",
            "                                                                                                  \n",
            " batch_normalization_47 (BatchN  (None, 19, 25, 160)  480        ['conv2d_47[0][0]']              \n",
            " ormalization)                                                                                    \n",
            "                                                                                                  \n",
            " activation_42 (Activation)     (None, 19, 25, 160)  0           ['batch_normalization_42[0][0]'] \n",
            "                                                                                                  \n",
            " activation_47 (Activation)     (None, 19, 25, 160)  0           ['batch_normalization_47[0][0]'] \n",
            "                                                                                                  \n",
            " average_pooling2d_4 (AveragePo  (None, 19, 25, 768)  0          ['mixed4[0][0]']                 \n",
            " oling2D)                                                                                         \n",
            "                                                                                                  \n",
            " conv2d_40 (Conv2D)             (None, 19, 25, 192)  147456      ['mixed4[0][0]']                 \n",
            "                                                                                                  \n",
            " conv2d_43 (Conv2D)             (None, 19, 25, 192)  215040      ['activation_42[0][0]']          \n",
            "                                                                                                  \n",
            " conv2d_48 (Conv2D)             (None, 19, 25, 192)  215040      ['activation_47[0][0]']          \n",
            "                                                                                                  \n",
            " conv2d_49 (Conv2D)             (None, 19, 25, 192)  147456      ['average_pooling2d_4[0][0]']    \n",
            "                                                                                                  \n",
            " batch_normalization_40 (BatchN  (None, 19, 25, 192)  576        ['conv2d_40[0][0]']              \n",
            " ormalization)                                                                                    \n",
            "                                                                                                  \n",
            " batch_normalization_43 (BatchN  (None, 19, 25, 192)  576        ['conv2d_43[0][0]']              \n",
            " ormalization)                                                                                    \n",
            "                                                                                                  \n",
            " batch_normalization_48 (BatchN  (None, 19, 25, 192)  576        ['conv2d_48[0][0]']              \n",
            " ormalization)                                                                                    \n",
            "                                                                                                  \n",
            " batch_normalization_49 (BatchN  (None, 19, 25, 192)  576        ['conv2d_49[0][0]']              \n",
            " ormalization)                                                                                    \n",
            "                                                                                                  \n",
            " activation_40 (Activation)     (None, 19, 25, 192)  0           ['batch_normalization_40[0][0]'] \n",
            "                                                                                                  \n",
            " activation_43 (Activation)     (None, 19, 25, 192)  0           ['batch_normalization_43[0][0]'] \n",
            "                                                                                                  \n",
            " activation_48 (Activation)     (None, 19, 25, 192)  0           ['batch_normalization_48[0][0]'] \n",
            "                                                                                                  \n",
            " activation_49 (Activation)     (None, 19, 25, 192)  0           ['batch_normalization_49[0][0]'] \n",
            "                                                                                                  \n",
            " mixed5 (Concatenate)           (None, 19, 25, 768)  0           ['activation_40[0][0]',          \n",
            "                                                                  'activation_43[0][0]',          \n",
            "                                                                  'activation_48[0][0]',          \n",
            "                                                                  'activation_49[0][0]']          \n",
            "                                                                                                  \n",
            " conv2d_54 (Conv2D)             (None, 19, 25, 160)  122880      ['mixed5[0][0]']                 \n",
            "                                                                                                  \n",
            " batch_normalization_54 (BatchN  (None, 19, 25, 160)  480        ['conv2d_54[0][0]']              \n",
            " ormalization)                                                                                    \n",
            "                                                                                                  \n",
            " activation_54 (Activation)     (None, 19, 25, 160)  0           ['batch_normalization_54[0][0]'] \n",
            "                                                                                                  \n",
            " conv2d_55 (Conv2D)             (None, 19, 25, 160)  179200      ['activation_54[0][0]']          \n",
            "                                                                                                  \n",
            " batch_normalization_55 (BatchN  (None, 19, 25, 160)  480        ['conv2d_55[0][0]']              \n",
            " ormalization)                                                                                    \n",
            "                                                                                                  \n",
            " activation_55 (Activation)     (None, 19, 25, 160)  0           ['batch_normalization_55[0][0]'] \n",
            "                                                                                                  \n",
            " conv2d_51 (Conv2D)             (None, 19, 25, 160)  122880      ['mixed5[0][0]']                 \n",
            "                                                                                                  \n",
            " conv2d_56 (Conv2D)             (None, 19, 25, 160)  179200      ['activation_55[0][0]']          \n",
            "                                                                                                  \n",
            " batch_normalization_51 (BatchN  (None, 19, 25, 160)  480        ['conv2d_51[0][0]']              \n",
            " ormalization)                                                                                    \n",
            "                                                                                                  \n",
            " batch_normalization_56 (BatchN  (None, 19, 25, 160)  480        ['conv2d_56[0][0]']              \n",
            " ormalization)                                                                                    \n",
            "                                                                                                  \n",
            " activation_51 (Activation)     (None, 19, 25, 160)  0           ['batch_normalization_51[0][0]'] \n",
            "                                                                                                  \n",
            " activation_56 (Activation)     (None, 19, 25, 160)  0           ['batch_normalization_56[0][0]'] \n",
            "                                                                                                  \n",
            " conv2d_52 (Conv2D)             (None, 19, 25, 160)  179200      ['activation_51[0][0]']          \n",
            "                                                                                                  \n",
            " conv2d_57 (Conv2D)             (None, 19, 25, 160)  179200      ['activation_56[0][0]']          \n",
            "                                                                                                  \n",
            " batch_normalization_52 (BatchN  (None, 19, 25, 160)  480        ['conv2d_52[0][0]']              \n",
            " ormalization)                                                                                    \n",
            "                                                                                                  \n",
            " batch_normalization_57 (BatchN  (None, 19, 25, 160)  480        ['conv2d_57[0][0]']              \n",
            " ormalization)                                                                                    \n",
            "                                                                                                  \n",
            " activation_52 (Activation)     (None, 19, 25, 160)  0           ['batch_normalization_52[0][0]'] \n",
            "                                                                                                  \n",
            " activation_57 (Activation)     (None, 19, 25, 160)  0           ['batch_normalization_57[0][0]'] \n",
            "                                                                                                  \n",
            " average_pooling2d_5 (AveragePo  (None, 19, 25, 768)  0          ['mixed5[0][0]']                 \n",
            " oling2D)                                                                                         \n",
            "                                                                                                  \n",
            " conv2d_50 (Conv2D)             (None, 19, 25, 192)  147456      ['mixed5[0][0]']                 \n",
            "                                                                                                  \n",
            " conv2d_53 (Conv2D)             (None, 19, 25, 192)  215040      ['activation_52[0][0]']          \n",
            "                                                                                                  \n",
            " conv2d_58 (Conv2D)             (None, 19, 25, 192)  215040      ['activation_57[0][0]']          \n",
            "                                                                                                  \n",
            " conv2d_59 (Conv2D)             (None, 19, 25, 192)  147456      ['average_pooling2d_5[0][0]']    \n",
            "                                                                                                  \n",
            " batch_normalization_50 (BatchN  (None, 19, 25, 192)  576        ['conv2d_50[0][0]']              \n",
            " ormalization)                                                                                    \n",
            "                                                                                                  \n",
            " batch_normalization_53 (BatchN  (None, 19, 25, 192)  576        ['conv2d_53[0][0]']              \n",
            " ormalization)                                                                                    \n",
            "                                                                                                  \n",
            " batch_normalization_58 (BatchN  (None, 19, 25, 192)  576        ['conv2d_58[0][0]']              \n",
            " ormalization)                                                                                    \n",
            "                                                                                                  \n",
            " batch_normalization_59 (BatchN  (None, 19, 25, 192)  576        ['conv2d_59[0][0]']              \n",
            " ormalization)                                                                                    \n",
            "                                                                                                  \n",
            " activation_50 (Activation)     (None, 19, 25, 192)  0           ['batch_normalization_50[0][0]'] \n",
            "                                                                                                  \n",
            " activation_53 (Activation)     (None, 19, 25, 192)  0           ['batch_normalization_53[0][0]'] \n",
            "                                                                                                  \n",
            " activation_58 (Activation)     (None, 19, 25, 192)  0           ['batch_normalization_58[0][0]'] \n",
            "                                                                                                  \n",
            " activation_59 (Activation)     (None, 19, 25, 192)  0           ['batch_normalization_59[0][0]'] \n",
            "                                                                                                  \n",
            " mixed6 (Concatenate)           (None, 19, 25, 768)  0           ['activation_50[0][0]',          \n",
            "                                                                  'activation_53[0][0]',          \n",
            "                                                                  'activation_58[0][0]',          \n",
            "                                                                  'activation_59[0][0]']          \n",
            "                                                                                                  \n",
            " conv2d_64 (Conv2D)             (None, 19, 25, 192)  147456      ['mixed6[0][0]']                 \n",
            "                                                                                                  \n",
            " batch_normalization_64 (BatchN  (None, 19, 25, 192)  576        ['conv2d_64[0][0]']              \n",
            " ormalization)                                                                                    \n",
            "                                                                                                  \n",
            " activation_64 (Activation)     (None, 19, 25, 192)  0           ['batch_normalization_64[0][0]'] \n",
            "                                                                                                  \n",
            " conv2d_65 (Conv2D)             (None, 19, 25, 192)  258048      ['activation_64[0][0]']          \n",
            "                                                                                                  \n",
            " batch_normalization_65 (BatchN  (None, 19, 25, 192)  576        ['conv2d_65[0][0]']              \n",
            " ormalization)                                                                                    \n",
            "                                                                                                  \n",
            " activation_65 (Activation)     (None, 19, 25, 192)  0           ['batch_normalization_65[0][0]'] \n",
            "                                                                                                  \n",
            " conv2d_61 (Conv2D)             (None, 19, 25, 192)  147456      ['mixed6[0][0]']                 \n",
            "                                                                                                  \n",
            " conv2d_66 (Conv2D)             (None, 19, 25, 192)  258048      ['activation_65[0][0]']          \n",
            "                                                                                                  \n",
            " batch_normalization_61 (BatchN  (None, 19, 25, 192)  576        ['conv2d_61[0][0]']              \n",
            " ormalization)                                                                                    \n",
            "                                                                                                  \n",
            " batch_normalization_66 (BatchN  (None, 19, 25, 192)  576        ['conv2d_66[0][0]']              \n",
            " ormalization)                                                                                    \n",
            "                                                                                                  \n",
            " activation_61 (Activation)     (None, 19, 25, 192)  0           ['batch_normalization_61[0][0]'] \n",
            "                                                                                                  \n",
            " activation_66 (Activation)     (None, 19, 25, 192)  0           ['batch_normalization_66[0][0]'] \n",
            "                                                                                                  \n",
            " conv2d_62 (Conv2D)             (None, 19, 25, 192)  258048      ['activation_61[0][0]']          \n",
            "                                                                                                  \n",
            " conv2d_67 (Conv2D)             (None, 19, 25, 192)  258048      ['activation_66[0][0]']          \n",
            "                                                                                                  \n",
            " batch_normalization_62 (BatchN  (None, 19, 25, 192)  576        ['conv2d_62[0][0]']              \n",
            " ormalization)                                                                                    \n",
            "                                                                                                  \n",
            " batch_normalization_67 (BatchN  (None, 19, 25, 192)  576        ['conv2d_67[0][0]']              \n",
            " ormalization)                                                                                    \n",
            "                                                                                                  \n",
            " activation_62 (Activation)     (None, 19, 25, 192)  0           ['batch_normalization_62[0][0]'] \n",
            "                                                                                                  \n",
            " activation_67 (Activation)     (None, 19, 25, 192)  0           ['batch_normalization_67[0][0]'] \n",
            "                                                                                                  \n",
            " average_pooling2d_6 (AveragePo  (None, 19, 25, 768)  0          ['mixed6[0][0]']                 \n",
            " oling2D)                                                                                         \n",
            "                                                                                                  \n",
            " conv2d_60 (Conv2D)             (None, 19, 25, 192)  147456      ['mixed6[0][0]']                 \n",
            "                                                                                                  \n",
            " conv2d_63 (Conv2D)             (None, 19, 25, 192)  258048      ['activation_62[0][0]']          \n",
            "                                                                                                  \n",
            " conv2d_68 (Conv2D)             (None, 19, 25, 192)  258048      ['activation_67[0][0]']          \n",
            "                                                                                                  \n",
            " conv2d_69 (Conv2D)             (None, 19, 25, 192)  147456      ['average_pooling2d_6[0][0]']    \n",
            "                                                                                                  \n",
            " batch_normalization_60 (BatchN  (None, 19, 25, 192)  576        ['conv2d_60[0][0]']              \n",
            " ormalization)                                                                                    \n",
            "                                                                                                  \n",
            " batch_normalization_63 (BatchN  (None, 19, 25, 192)  576        ['conv2d_63[0][0]']              \n",
            " ormalization)                                                                                    \n",
            "                                                                                                  \n",
            " batch_normalization_68 (BatchN  (None, 19, 25, 192)  576        ['conv2d_68[0][0]']              \n",
            " ormalization)                                                                                    \n",
            "                                                                                                  \n",
            " batch_normalization_69 (BatchN  (None, 19, 25, 192)  576        ['conv2d_69[0][0]']              \n",
            " ormalization)                                                                                    \n",
            "                                                                                                  \n",
            " activation_60 (Activation)     (None, 19, 25, 192)  0           ['batch_normalization_60[0][0]'] \n",
            "                                                                                                  \n",
            " activation_63 (Activation)     (None, 19, 25, 192)  0           ['batch_normalization_63[0][0]'] \n",
            "                                                                                                  \n",
            " activation_68 (Activation)     (None, 19, 25, 192)  0           ['batch_normalization_68[0][0]'] \n",
            "                                                                                                  \n",
            " activation_69 (Activation)     (None, 19, 25, 192)  0           ['batch_normalization_69[0][0]'] \n",
            "                                                                                                  \n",
            " mixed7 (Concatenate)           (None, 19, 25, 768)  0           ['activation_60[0][0]',          \n",
            "                                                                  'activation_63[0][0]',          \n",
            "                                                                  'activation_68[0][0]',          \n",
            "                                                                  'activation_69[0][0]']          \n",
            "                                                                                                  \n",
            " conv2d_72 (Conv2D)             (None, 19, 25, 192)  147456      ['mixed7[0][0]']                 \n",
            "                                                                                                  \n",
            " batch_normalization_72 (BatchN  (None, 19, 25, 192)  576        ['conv2d_72[0][0]']              \n",
            " ormalization)                                                                                    \n",
            "                                                                                                  \n",
            " activation_72 (Activation)     (None, 19, 25, 192)  0           ['batch_normalization_72[0][0]'] \n",
            "                                                                                                  \n",
            " conv2d_73 (Conv2D)             (None, 19, 25, 192)  258048      ['activation_72[0][0]']          \n",
            "                                                                                                  \n",
            " batch_normalization_73 (BatchN  (None, 19, 25, 192)  576        ['conv2d_73[0][0]']              \n",
            " ormalization)                                                                                    \n",
            "                                                                                                  \n",
            " activation_73 (Activation)     (None, 19, 25, 192)  0           ['batch_normalization_73[0][0]'] \n",
            "                                                                                                  \n",
            " conv2d_70 (Conv2D)             (None, 19, 25, 192)  147456      ['mixed7[0][0]']                 \n",
            "                                                                                                  \n",
            " conv2d_74 (Conv2D)             (None, 19, 25, 192)  258048      ['activation_73[0][0]']          \n",
            "                                                                                                  \n",
            " batch_normalization_70 (BatchN  (None, 19, 25, 192)  576        ['conv2d_70[0][0]']              \n",
            " ormalization)                                                                                    \n",
            "                                                                                                  \n",
            " batch_normalization_74 (BatchN  (None, 19, 25, 192)  576        ['conv2d_74[0][0]']              \n",
            " ormalization)                                                                                    \n",
            "                                                                                                  \n",
            " activation_70 (Activation)     (None, 19, 25, 192)  0           ['batch_normalization_70[0][0]'] \n",
            "                                                                                                  \n",
            " activation_74 (Activation)     (None, 19, 25, 192)  0           ['batch_normalization_74[0][0]'] \n",
            "                                                                                                  \n",
            " conv2d_71 (Conv2D)             (None, 9, 12, 320)   552960      ['activation_70[0][0]']          \n",
            "                                                                                                  \n",
            " conv2d_75 (Conv2D)             (None, 9, 12, 192)   331776      ['activation_74[0][0]']          \n",
            "                                                                                                  \n",
            " batch_normalization_71 (BatchN  (None, 9, 12, 320)  960         ['conv2d_71[0][0]']              \n",
            " ormalization)                                                                                    \n",
            "                                                                                                  \n",
            " batch_normalization_75 (BatchN  (None, 9, 12, 192)  576         ['conv2d_75[0][0]']              \n",
            " ormalization)                                                                                    \n",
            "                                                                                                  \n",
            " activation_71 (Activation)     (None, 9, 12, 320)   0           ['batch_normalization_71[0][0]'] \n",
            "                                                                                                  \n",
            " activation_75 (Activation)     (None, 9, 12, 192)   0           ['batch_normalization_75[0][0]'] \n",
            "                                                                                                  \n",
            " max_pooling2d_3 (MaxPooling2D)  (None, 9, 12, 768)  0           ['mixed7[0][0]']                 \n",
            "                                                                                                  \n",
            " mixed8 (Concatenate)           (None, 9, 12, 1280)  0           ['activation_71[0][0]',          \n",
            "                                                                  'activation_75[0][0]',          \n",
            "                                                                  'max_pooling2d_3[0][0]']        \n",
            "                                                                                                  \n",
            " conv2d_80 (Conv2D)             (None, 9, 12, 448)   573440      ['mixed8[0][0]']                 \n",
            "                                                                                                  \n",
            " batch_normalization_80 (BatchN  (None, 9, 12, 448)  1344        ['conv2d_80[0][0]']              \n",
            " ormalization)                                                                                    \n",
            "                                                                                                  \n",
            " activation_80 (Activation)     (None, 9, 12, 448)   0           ['batch_normalization_80[0][0]'] \n",
            "                                                                                                  \n",
            " conv2d_77 (Conv2D)             (None, 9, 12, 384)   491520      ['mixed8[0][0]']                 \n",
            "                                                                                                  \n",
            " conv2d_81 (Conv2D)             (None, 9, 12, 384)   1548288     ['activation_80[0][0]']          \n",
            "                                                                                                  \n",
            " batch_normalization_77 (BatchN  (None, 9, 12, 384)  1152        ['conv2d_77[0][0]']              \n",
            " ormalization)                                                                                    \n",
            "                                                                                                  \n",
            " batch_normalization_81 (BatchN  (None, 9, 12, 384)  1152        ['conv2d_81[0][0]']              \n",
            " ormalization)                                                                                    \n",
            "                                                                                                  \n",
            " activation_77 (Activation)     (None, 9, 12, 384)   0           ['batch_normalization_77[0][0]'] \n",
            "                                                                                                  \n",
            " activation_81 (Activation)     (None, 9, 12, 384)   0           ['batch_normalization_81[0][0]'] \n",
            "                                                                                                  \n",
            " conv2d_78 (Conv2D)             (None, 9, 12, 384)   442368      ['activation_77[0][0]']          \n",
            "                                                                                                  \n",
            " conv2d_79 (Conv2D)             (None, 9, 12, 384)   442368      ['activation_77[0][0]']          \n",
            "                                                                                                  \n",
            " conv2d_82 (Conv2D)             (None, 9, 12, 384)   442368      ['activation_81[0][0]']          \n",
            "                                                                                                  \n",
            " conv2d_83 (Conv2D)             (None, 9, 12, 384)   442368      ['activation_81[0][0]']          \n",
            "                                                                                                  \n",
            " average_pooling2d_7 (AveragePo  (None, 9, 12, 1280)  0          ['mixed8[0][0]']                 \n",
            " oling2D)                                                                                         \n",
            "                                                                                                  \n",
            " conv2d_76 (Conv2D)             (None, 9, 12, 320)   409600      ['mixed8[0][0]']                 \n",
            "                                                                                                  \n",
            " batch_normalization_78 (BatchN  (None, 9, 12, 384)  1152        ['conv2d_78[0][0]']              \n",
            " ormalization)                                                                                    \n",
            "                                                                                                  \n",
            " batch_normalization_79 (BatchN  (None, 9, 12, 384)  1152        ['conv2d_79[0][0]']              \n",
            " ormalization)                                                                                    \n",
            "                                                                                                  \n",
            " batch_normalization_82 (BatchN  (None, 9, 12, 384)  1152        ['conv2d_82[0][0]']              \n",
            " ormalization)                                                                                    \n",
            "                                                                                                  \n",
            " batch_normalization_83 (BatchN  (None, 9, 12, 384)  1152        ['conv2d_83[0][0]']              \n",
            " ormalization)                                                                                    \n",
            "                                                                                                  \n",
            " conv2d_84 (Conv2D)             (None, 9, 12, 192)   245760      ['average_pooling2d_7[0][0]']    \n",
            "                                                                                                  \n",
            " batch_normalization_76 (BatchN  (None, 9, 12, 320)  960         ['conv2d_76[0][0]']              \n",
            " ormalization)                                                                                    \n",
            "                                                                                                  \n",
            " activation_78 (Activation)     (None, 9, 12, 384)   0           ['batch_normalization_78[0][0]'] \n",
            "                                                                                                  \n",
            " activation_79 (Activation)     (None, 9, 12, 384)   0           ['batch_normalization_79[0][0]'] \n",
            "                                                                                                  \n",
            " activation_82 (Activation)     (None, 9, 12, 384)   0           ['batch_normalization_82[0][0]'] \n",
            "                                                                                                  \n",
            " activation_83 (Activation)     (None, 9, 12, 384)   0           ['batch_normalization_83[0][0]'] \n",
            "                                                                                                  \n",
            " batch_normalization_84 (BatchN  (None, 9, 12, 192)  576         ['conv2d_84[0][0]']              \n",
            " ormalization)                                                                                    \n",
            "                                                                                                  \n",
            " activation_76 (Activation)     (None, 9, 12, 320)   0           ['batch_normalization_76[0][0]'] \n",
            "                                                                                                  \n",
            " mixed9_0 (Concatenate)         (None, 9, 12, 768)   0           ['activation_78[0][0]',          \n",
            "                                                                  'activation_79[0][0]']          \n",
            "                                                                                                  \n",
            " concatenate (Concatenate)      (None, 9, 12, 768)   0           ['activation_82[0][0]',          \n",
            "                                                                  'activation_83[0][0]']          \n",
            "                                                                                                  \n",
            " activation_84 (Activation)     (None, 9, 12, 192)   0           ['batch_normalization_84[0][0]'] \n",
            "                                                                                                  \n",
            " mixed9 (Concatenate)           (None, 9, 12, 2048)  0           ['activation_76[0][0]',          \n",
            "                                                                  'mixed9_0[0][0]',               \n",
            "                                                                  'concatenate[0][0]',            \n",
            "                                                                  'activation_84[0][0]']          \n",
            "                                                                                                  \n",
            " conv2d_89 (Conv2D)             (None, 9, 12, 448)   917504      ['mixed9[0][0]']                 \n",
            "                                                                                                  \n",
            " batch_normalization_89 (BatchN  (None, 9, 12, 448)  1344        ['conv2d_89[0][0]']              \n",
            " ormalization)                                                                                    \n",
            "                                                                                                  \n",
            " activation_89 (Activation)     (None, 9, 12, 448)   0           ['batch_normalization_89[0][0]'] \n",
            "                                                                                                  \n",
            " conv2d_86 (Conv2D)             (None, 9, 12, 384)   786432      ['mixed9[0][0]']                 \n",
            "                                                                                                  \n",
            " conv2d_90 (Conv2D)             (None, 9, 12, 384)   1548288     ['activation_89[0][0]']          \n",
            "                                                                                                  \n",
            " batch_normalization_86 (BatchN  (None, 9, 12, 384)  1152        ['conv2d_86[0][0]']              \n",
            " ormalization)                                                                                    \n",
            "                                                                                                  \n",
            " batch_normalization_90 (BatchN  (None, 9, 12, 384)  1152        ['conv2d_90[0][0]']              \n",
            " ormalization)                                                                                    \n",
            "                                                                                                  \n",
            " activation_86 (Activation)     (None, 9, 12, 384)   0           ['batch_normalization_86[0][0]'] \n",
            "                                                                                                  \n",
            " activation_90 (Activation)     (None, 9, 12, 384)   0           ['batch_normalization_90[0][0]'] \n",
            "                                                                                                  \n",
            " conv2d_87 (Conv2D)             (None, 9, 12, 384)   442368      ['activation_86[0][0]']          \n",
            "                                                                                                  \n",
            " conv2d_88 (Conv2D)             (None, 9, 12, 384)   442368      ['activation_86[0][0]']          \n",
            "                                                                                                  \n",
            " conv2d_91 (Conv2D)             (None, 9, 12, 384)   442368      ['activation_90[0][0]']          \n",
            "                                                                                                  \n",
            " conv2d_92 (Conv2D)             (None, 9, 12, 384)   442368      ['activation_90[0][0]']          \n",
            "                                                                                                  \n",
            " average_pooling2d_8 (AveragePo  (None, 9, 12, 2048)  0          ['mixed9[0][0]']                 \n",
            " oling2D)                                                                                         \n",
            "                                                                                                  \n",
            " conv2d_85 (Conv2D)             (None, 9, 12, 320)   655360      ['mixed9[0][0]']                 \n",
            "                                                                                                  \n",
            " batch_normalization_87 (BatchN  (None, 9, 12, 384)  1152        ['conv2d_87[0][0]']              \n",
            " ormalization)                                                                                    \n",
            "                                                                                                  \n",
            " batch_normalization_88 (BatchN  (None, 9, 12, 384)  1152        ['conv2d_88[0][0]']              \n",
            " ormalization)                                                                                    \n",
            "                                                                                                  \n",
            " batch_normalization_91 (BatchN  (None, 9, 12, 384)  1152        ['conv2d_91[0][0]']              \n",
            " ormalization)                                                                                    \n",
            "                                                                                                  \n",
            " batch_normalization_92 (BatchN  (None, 9, 12, 384)  1152        ['conv2d_92[0][0]']              \n",
            " ormalization)                                                                                    \n",
            "                                                                                                  \n",
            " conv2d_93 (Conv2D)             (None, 9, 12, 192)   393216      ['average_pooling2d_8[0][0]']    \n",
            "                                                                                                  \n",
            " batch_normalization_85 (BatchN  (None, 9, 12, 320)  960         ['conv2d_85[0][0]']              \n",
            " ormalization)                                                                                    \n",
            "                                                                                                  \n",
            " activation_87 (Activation)     (None, 9, 12, 384)   0           ['batch_normalization_87[0][0]'] \n",
            "                                                                                                  \n",
            " activation_88 (Activation)     (None, 9, 12, 384)   0           ['batch_normalization_88[0][0]'] \n",
            "                                                                                                  \n",
            " activation_91 (Activation)     (None, 9, 12, 384)   0           ['batch_normalization_91[0][0]'] \n",
            "                                                                                                  \n",
            " activation_92 (Activation)     (None, 9, 12, 384)   0           ['batch_normalization_92[0][0]'] \n",
            "                                                                                                  \n",
            " batch_normalization_93 (BatchN  (None, 9, 12, 192)  576         ['conv2d_93[0][0]']              \n",
            " ormalization)                                                                                    \n",
            "                                                                                                  \n",
            " activation_85 (Activation)     (None, 9, 12, 320)   0           ['batch_normalization_85[0][0]'] \n",
            "                                                                                                  \n",
            " mixed9_1 (Concatenate)         (None, 9, 12, 768)   0           ['activation_87[0][0]',          \n",
            "                                                                  'activation_88[0][0]']          \n",
            "                                                                                                  \n",
            " concatenate_1 (Concatenate)    (None, 9, 12, 768)   0           ['activation_91[0][0]',          \n",
            "                                                                  'activation_92[0][0]']          \n",
            "                                                                                                  \n",
            " activation_93 (Activation)     (None, 9, 12, 192)   0           ['batch_normalization_93[0][0]'] \n",
            "                                                                                                  \n",
            " mixed10 (Concatenate)          (None, 9, 12, 2048)  0           ['activation_85[0][0]',          \n",
            "                                                                  'mixed9_1[0][0]',               \n",
            "                                                                  'concatenate_1[0][0]',          \n",
            "                                                                  'activation_93[0][0]']          \n",
            "                                                                                                  \n",
            " global_average_pooling2d (Glob  (None, 2048)        0           ['mixed10[0][0]']                \n",
            " alAveragePooling2D)                                                                              \n",
            "                                                                                                  \n",
            " dense (Dense)                  (None, 512)          1049088     ['global_average_pooling2d[0][0]'\n",
            "                                                                 ]                                \n",
            "                                                                                                  \n",
            " dense_1 (Dense)                (None, 3)            1539        ['dense[0][0]']                  \n",
            "                                                                                                  \n",
            "==================================================================================================\n",
            "Total params: 22,853,411\n",
            "Trainable params: 1,050,627\n",
            "Non-trainable params: 21,802,784\n",
            "__________________________________________________________________________________________________\n"
          ]
        }
      ],
      "source": [
        "inception_model.summary()"
      ]
    },
    {
      "cell_type": "code",
      "execution_count": 25,
      "metadata": {
        "colab": {
          "base_uri": "https://localhost:8080/"
        },
        "id": "yQ67C0XApAxw",
        "outputId": "41a7bd2b-50f2-44c4-d97d-9841095e8bff"
      },
      "outputs": [
        {
          "output_type": "stream",
          "name": "stdout",
          "text": [
            "Epoch 1/2\n",
            "252/252 [==============================] - 385s 1s/step - loss: 1.1886 - auc: 0.5627 - prc: 0.3881 - categorical accuracy: 0.3952 - precision: 0.4024 - recall: 0.0597 - val_loss: 1.0518 - val_auc: 0.6308 - val_prc: 0.4430 - val_categorical accuracy: 0.4371 - val_precision: 0.5750 - val_recall: 0.0657\n",
            "Epoch 2/2\n",
            "252/252 [==============================] - 383s 2s/step - loss: 1.0622 - auc: 0.6106 - prc: 0.4404 - categorical accuracy: 0.4232 - precision: 0.6040 - recall: 0.0655 - val_loss: 1.0412 - val_auc: 0.6396 - val_prc: 0.4531 - val_categorical accuracy: 0.4686 - val_precision: 0.5490 - val_recall: 0.0800\n"
          ]
        },
        {
          "output_type": "execute_result",
          "data": {
            "text/plain": [
              "<keras.callbacks.History at 0x7f00695866a0>"
            ]
          },
          "metadata": {},
          "execution_count": 25
        }
      ],
      "source": [
        "inception_model.fit(Train, epochs=2, validation_data=Validation, verbose=1) #, batch_size=128"
      ]
    },
    {
      "cell_type": "code",
      "execution_count": 26,
      "metadata": {
        "colab": {
          "base_uri": "https://localhost:8080/"
        },
        "id": "f-R5o-ZKY9_Y",
        "outputId": "40f42fae-f326-4abb-e10d-fe52c91cf37d"
      },
      "outputs": [
        {
          "output_type": "stream",
          "name": "stdout",
          "text": [
            "Epoch 1/50\n",
            "252/252 [==============================] - 369s 1s/step - loss: 1.0404 - auc: 0.6418 - prc: 0.4793 - categorical accuracy: 0.4539 - precision: 0.6405 - recall: 0.1114 - val_loss: 1.0188 - val_auc: 0.6693 - val_prc: 0.4937 - val_categorical accuracy: 0.4886 - val_precision: 0.5811 - val_recall: 0.1229\n",
            "Epoch 2/50\n",
            "252/252 [==============================] - 378s 1s/step - loss: 1.0222 - auc: 0.6592 - prc: 0.5030 - categorical accuracy: 0.4712 - precision: 0.6523 - recall: 0.1486 - val_loss: 1.0285 - val_auc: 0.6556 - val_prc: 0.4780 - val_categorical accuracy: 0.4743 - val_precision: 0.5182 - val_recall: 0.1629\n",
            "Epoch 3/50\n",
            "252/252 [==============================] - 370s 1s/step - loss: 1.0014 - auc: 0.6783 - prc: 0.5329 - categorical accuracy: 0.4913 - precision: 0.6801 - recall: 0.1895 - val_loss: 1.0251 - val_auc: 0.6671 - val_prc: 0.4895 - val_categorical accuracy: 0.5000 - val_precision: 0.5259 - val_recall: 0.2029\n",
            "Epoch 4/50\n",
            "252/252 [==============================] - 384s 2s/step - loss: 0.9781 - auc: 0.6975 - prc: 0.5622 - categorical accuracy: 0.5090 - precision: 0.6922 - recall: 0.2349 - val_loss: 1.0119 - val_auc: 0.6749 - val_prc: 0.5090 - val_categorical accuracy: 0.4800 - val_precision: 0.5316 - val_recall: 0.2400\n",
            "Epoch 5/50\n",
            "252/252 [==============================] - 376s 1s/step - loss: 0.9538 - auc: 0.7164 - prc: 0.5851 - categorical accuracy: 0.5260 - precision: 0.6841 - recall: 0.2786 - val_loss: 1.0109 - val_auc: 0.6806 - val_prc: 0.5144 - val_categorical accuracy: 0.4971 - val_precision: 0.5250 - val_recall: 0.2400\n",
            "Epoch 6/50\n",
            "252/252 [==============================] - 379s 1s/step - loss: 0.9269 - auc: 0.7362 - prc: 0.6126 - categorical accuracy: 0.5448 - precision: 0.6865 - recall: 0.3201 - val_loss: 1.0038 - val_auc: 0.6889 - val_prc: 0.5281 - val_categorical accuracy: 0.4829 - val_precision: 0.5714 - val_recall: 0.3314\n",
            "Epoch 7/50\n",
            "252/252 [==============================] - 381s 2s/step - loss: 0.9036 - auc: 0.7512 - prc: 0.6351 - categorical accuracy: 0.5548 - precision: 0.7019 - recall: 0.3503 - val_loss: 0.9797 - val_auc: 0.7137 - val_prc: 0.5538 - val_categorical accuracy: 0.5171 - val_precision: 0.6049 - val_recall: 0.3543\n",
            "Epoch 8/50\n",
            "252/252 [==============================] - 380s 1s/step - loss: 0.8842 - auc: 0.7637 - prc: 0.6508 - categorical accuracy: 0.5680 - precision: 0.7052 - recall: 0.3713 - val_loss: 1.0003 - val_auc: 0.6999 - val_prc: 0.5434 - val_categorical accuracy: 0.5143 - val_precision: 0.5785 - val_recall: 0.3686\n",
            "Epoch 9/50\n",
            "252/252 [==============================] - 388s 2s/step - loss: 0.8578 - auc: 0.7791 - prc: 0.6721 - categorical accuracy: 0.5792 - precision: 0.7106 - recall: 0.4073 - val_loss: 1.0042 - val_auc: 0.7029 - val_prc: 0.5455 - val_categorical accuracy: 0.5200 - val_precision: 0.5907 - val_recall: 0.4000\n",
            "Epoch 10/50\n",
            "252/252 [==============================] - 378s 1s/step - loss: 0.8319 - auc: 0.7962 - prc: 0.6955 - categorical accuracy: 0.5991 - precision: 0.7372 - recall: 0.4277 - val_loss: 0.9961 - val_auc: 0.7139 - val_prc: 0.5585 - val_categorical accuracy: 0.5343 - val_precision: 0.5816 - val_recall: 0.3971\n",
            "Epoch 11/50\n",
            "252/252 [==============================] - 379s 1s/step - loss: 0.8071 - auc: 0.8097 - prc: 0.7137 - categorical accuracy: 0.6079 - precision: 0.7433 - recall: 0.4532 - val_loss: 0.9990 - val_auc: 0.7107 - val_prc: 0.5617 - val_categorical accuracy: 0.5371 - val_precision: 0.6049 - val_recall: 0.4200\n",
            "Epoch 12/50\n",
            "252/252 [==============================] - 384s 2s/step - loss: 0.7921 - auc: 0.8164 - prc: 0.7221 - categorical accuracy: 0.6083 - precision: 0.7452 - recall: 0.4694 - val_loss: 1.0180 - val_auc: 0.7089 - val_prc: 0.5579 - val_categorical accuracy: 0.5343 - val_precision: 0.5866 - val_recall: 0.4257\n"
          ]
        }
      ],
      "source": [
        "es = EarlyStopping(patience=5, restore_best_weights=True) #, monitor='val_loss'\n",
        "history = inception_model.fit(Train, epochs=50, validation_data=Validation, verbose=1, callbacks=[es]) #, batch_size=128\n"
      ]
    },
    {
      "cell_type": "code",
      "execution_count": 27,
      "metadata": {
        "id": "YRyLieA_b4qJ"
      },
      "outputs": [],
      "source": [
        "inception_model.save(base_dir+'/inception_model6.h5') "
      ]
    },
    {
      "cell_type": "code",
      "execution_count": 28,
      "metadata": {
        "colab": {
          "base_uri": "https://localhost:8080/"
        },
        "id": "yiis423janba",
        "outputId": "49a99822-4448-4781-f02b-3120831e9992"
      },
      "outputs": [
        {
          "output_type": "stream",
          "name": "stdout",
          "text": [
            "87/87 [==============================] - 107s 1s/step - loss: 0.9825 - auc: 0.7154 - prc: 0.5643 - categorical accuracy: 0.5306 - precision: 0.6161 - recall: 0.3313\n"
          ]
        },
        {
          "output_type": "execute_result",
          "data": {
            "text/plain": [
              "[0.9824559688568115,\n",
              " 0.715408980846405,\n",
              " 0.564335286617279,\n",
              " 0.5305747389793396,\n",
              " 0.6160752177238464,\n",
              " 0.3312643766403198]"
            ]
          },
          "metadata": {},
          "execution_count": 28
        }
      ],
      "source": [
        "inception_model.evaluate(Test)"
      ]
    },
    {
      "cell_type": "code",
      "source": [
        "path = f\"./\"   \n",
        "Hdf5_file = []\n",
        "# r=root, d=directories, f = files\n",
        "for r, d, f in os.walk(path):\n",
        "    for file in f:\n",
        "        if '.h5' in file:\n",
        "            Hdf5_file.append(os.path.join(r, file))"
      ],
      "metadata": {
        "id": "EmZbN4oplJm3"
      },
      "execution_count": 31,
      "outputs": []
    },
    {
      "cell_type": "code",
      "source": [
        "Hdf5_file"
      ],
      "metadata": {
        "colab": {
          "base_uri": "https://localhost:8080/"
        },
        "id": "_bRBCBdlmtjg",
        "outputId": "4a8c1e58-781b-43e1-a9f0-0e9486c32138"
      },
      "execution_count": 32,
      "outputs": [
        {
          "output_type": "execute_result",
          "data": {
            "text/plain": [
              "['./inception_model1.h5', './inception_model2.h5', './inception_model6.h5']"
            ]
          },
          "metadata": {},
          "execution_count": 32
        }
      ]
    },
    {
      "cell_type": "code",
      "source": [
        "def plot_metrics(history):\n",
        "    with plt.style.context('seaborn-deep'):\n",
        "        fig, ax = plt.subplots(1, 3, figsize=(15, 4))\n",
        "        ## Plot Losses and Accuracies\n",
        "        x_axis = np.arange(len(history.history['loss']))\n",
        "        ax[0].set_title(\"Loss\")\n",
        "        ax[0].plot(x_axis, history.history['loss'], color=\"blue\", linestyle=\":\", marker=\"X\", label=\"Train Loss\")\n",
        "        ax[0].plot(x_axis, history.history['val_loss'], color=\"orange\", linestyle=\"-\", marker=\"X\", label=\"Val Loss\")\n",
        "        ax[1].set_title(\"AUC\")\n",
        "        ax[1].plot(x_axis, history.history['auc'], color=\"blue\", linestyle=\":\", marker=\"X\", label=\"Train AUC\")\n",
        "        ax[1].plot(x_axis,\n",
        "                   history.history['val_auc'],\n",
        "                   color=\"orange\",\n",
        "                   linestyle=\"-\",\n",
        "                   marker=\"X\",\n",
        "                   label=\"Val AUC\")\n",
        "        ax[2].set_title(\"PRC\")\n",
        "        ax[2].plot(x_axis, history.history['prc'], color=\"blue\", linestyle=\":\", marker=\"X\", label=\"Train PRC\")\n",
        "        ax[2].plot(x_axis,\n",
        "                   history.history['val_prc'],\n",
        "                   color=\"orange\",\n",
        "                   linestyle=\"-\",\n",
        "                   marker=\"X\",\n",
        "                   label=\"Val PRC\")\n",
        "        ## Customization\n",
        "        ax[0].grid(axis=\"x\", linewidth=0.5)\n",
        "        ax[0].grid(axis=\"y\", linewidth=0.5)\n",
        "        ax[0].legend()\n",
        "        ax[1].grid(axis=\"x\", linewidth=0.5)\n",
        "        ax[1].grid(axis=\"y\", linewidth=0.5)\n",
        "        ax[1].legend()\n",
        "        ax[2].grid(axis=\"x\", linewidth=0.5)\n",
        "        ax[2].grid(axis=\"y\", linewidth=0.5)\n",
        "        ax[2].legend()\n",
        "        plt.show()"
      ],
      "metadata": {
        "id": "MySa1CPYkez4"
      },
      "execution_count": 33,
      "outputs": []
    },
    {
      "cell_type": "code",
      "source": [
        "plot_metrics(history)"
      ],
      "metadata": {
        "colab": {
          "base_uri": "https://localhost:8080/",
          "height": 281
        },
        "id": "uY0LHZY6nTju",
        "outputId": "3e4df7a6-bc29-4148-ac9a-32c3bbf86124"
      },
      "execution_count": 34,
      "outputs": [
        {
          "output_type": "display_data",
          "data": {
            "text/plain": [
              "<Figure size 1080x288 with 3 Axes>"
            ],
            "image/png": "[encoded data removed]"
          },
          "metadata": {
            "needs_background": "light"
          }
        }
      ]
    },
    {
      "cell_type": "code",
      "source": [
        "from tensorflow.keras.models import load_model\n",
        "my_model = load_model(Hdf5_file[-1])"
      ],
      "metadata": {
        "id": "bIRsw7NcoBCH"
      },
      "execution_count": 36,
      "outputs": []
    },
    {
      "cell_type": "code",
      "source": [
        "predictions = my_model.predict(image_test_array)"
      ],
      "metadata": {
        "colab": {
          "base_uri": "https://localhost:8080/"
        },
        "id": "LJDHrBJUo9Iv",
        "outputId": "e3ec431b-d0de-49d7-b687-ac5858d20660"
      },
      "execution_count": 39,
      "outputs": [
        {
          "output_type": "stream",
          "name": "stdout",
          "text": [
            "14/14 [==============================] - 11s 666ms/step\n"
          ]
        }
      ]
    },
    {
      "cell_type": "code",
      "source": [
        "predictions.shape"
      ],
      "metadata": {
        "colab": {
          "base_uri": "https://localhost:8080/"
        },
        "id": "m9tFVFWooDU-",
        "outputId": "d0d52257-a4f3-42a7-d3a9-2b965ccb0b0e"
      },
      "execution_count": 40,
      "outputs": [
        {
          "output_type": "execute_result",
          "data": {
            "text/plain": [
              "(437, 3)"
            ]
          },
          "metadata": {},
          "execution_count": 40
        }
      ]
    },
    {
      "cell_type": "code",
      "source": [
        "ypred = []\n",
        "for prediction in predictions:\n",
        "  ypred.append(prediction.argmax())"
      ],
      "metadata": {
        "id": "87zQrfaEpn2o"
      },
      "execution_count": 41,
      "outputs": []
    },
    {
      "cell_type": "code",
      "source": [
        "from sklearn.metrics import confusion_matrix\n",
        "conf_matrix = confusion_matrix(\n",
        "    label_test_array,\n",
        "    ypred\n",
        ")"
      ],
      "metadata": {
        "id": "AbG7DsZ2psIA"
      },
      "execution_count": 42,
      "outputs": []
    },
    {
      "cell_type": "code",
      "source": [
        "conf_matrix"
      ],
      "metadata": {
        "colab": {
          "base_uri": "https://localhost:8080/"
        },
        "id": "T7oaKfs8pvbG",
        "outputId": "8636b7ac-06a3-48f5-ed2b-a7cf490c54eb"
      },
      "execution_count": 43,
      "outputs": [
        {
          "output_type": "execute_result",
          "data": {
            "text/plain": [
              "array([[ 66,  73,   0],\n",
              "       [ 39, 165,   0],\n",
              "       [ 25,  68,   1]])"
            ]
          },
          "metadata": {},
          "execution_count": 43
        }
      ]
    },
    {
      "cell_type": "code",
      "source": [
        "cm_df = pd.DataFrame(conf_matrix,\n",
        "                     index = ['CN','MCI','AD'], \n",
        "                     columns = ['CN','MCI','AD'])"
      ],
      "metadata": {
        "id": "7dk43Hdtqa94"
      },
      "execution_count": 44,
      "outputs": []
    },
    {
      "cell_type": "code",
      "source": [
        "cm_df"
      ],
      "metadata": {
        "colab": {
          "base_uri": "https://localhost:8080/",
          "height": 143
        },
        "id": "bL8WytDKqdnX",
        "outputId": "ad8d6c9d-0c67-4131-8ede-c87e489b5d73"
      },
      "execution_count": 45,
      "outputs": [
        {
          "output_type": "execute_result",
          "data": {
            "text/plain": [
              "     CN  MCI  AD\n",
              "CN   66   73   0\n",
              "MCI  39  165   0\n",
              "AD   25   68   1"
            ],
            "text/html": [
              "\n",
              "  <div id=\"df-315ef815-30f0-4c12-aefe-e6954e4c4bad\">\n",
              "    <div class=\"colab-df-container\">\n",
              "      <div>\n",
              "<style scoped>\n",
              "    .dataframe tbody tr th:only-of-type {\n",
              "        vertical-align: middle;\n",
              "    }\n",
              "\n",
              "    .dataframe tbody tr th {\n",
              "        vertical-align: top;\n",
              "    }\n",
              "\n",
              "    .dataframe thead th {\n",
              "        text-align: right;\n",
              "    }\n",
              "</style>\n",
              "<table border=\"1\" class=\"dataframe\">\n",
              "  <thead>\n",
              "    <tr style=\"text-align: right;\">\n",
              "      <th></th>\n",
              "      <th>CN</th>\n",
              "      <th>MCI</th>\n",
              "      <th>AD</th>\n",
              "    </tr>\n",
              "  </thead>\n",
              "  <tbody>\n",
              "    <tr>\n",
              "      <th>CN</th>\n",
              "      <td>66</td>\n",
              "      <td>73</td>\n",
              "      <td>0</td>\n",
              "    </tr>\n",
              "    <tr>\n",
              "      <th>MCI</th>\n",
              "      <td>39</td>\n",
              "      <td>165</td>\n",
              "      <td>0</td>\n",
              "    </tr>\n",
              "    <tr>\n",
              "      <th>AD</th>\n",
              "      <td>25</td>\n",
              "      <td>68</td>\n",
              "      <td>1</td>\n",
              "    </tr>\n",
              "  </tbody>\n",
              "</table>\n",
              "</div>\n",
              "      <button class=\"colab-df-convert\" onclick=\"convertToInteractive('df-315ef815-30f0-4c12-aefe-e6954e4c4bad')\"\n",
              "              title=\"Convert this dataframe to an interactive table.\"\n",
              "              style=\"display:none;\">\n",
              "        \n",
              "  <svg xmlns=\"http://www.w3.org/2000/svg\" height=\"24px\"viewBox=\"0 0 24 24\"\n",
              "       width=\"24px\">\n",
              "    <path d=\"M0 0h24v24H0V0z\" fill=\"none\"/>\n",
              "    <path d=\"M18.56 5.44l.94 2.06.94-2.06 2.06-.94-2.06-.94-.94-2.06-.94 2.06-2.06.94zm-11 1L8.5 8.5l.94-2.06 2.06-.94-2.06-.94L8.5 2.5l-.94 2.06-2.06.94zm10 10l.94 2.06.94-2.06 2.06-.94-2.06-.94-.94-2.06-.94 2.06-2.06.94z\"/><path d=\"M17.41 7.96l-1.37-1.37c-.4-.4-.92-.59-1.43-.59-.52 0-1.04.2-1.43.59L10.3 9.45l-7.72 7.72c-.78.78-.78 2.05 0 2.83L4 21.41c.39.39.9.59 1.41.59.51 0 1.02-.2 1.41-.59l7.78-7.78 2.81-2.81c.8-.78.8-2.07 0-2.86zM5.41 20L4 18.59l7.72-7.72 1.47 1.35L5.41 20z\"/>\n",
              "  </svg>\n",
              "      </button>\n",
              "      \n",
              "  <style>\n",
              "    .colab-df-container {\n",
              "      display:flex;\n",
              "      flex-wrap:wrap;\n",
              "      gap: 12px;\n",
              "    }\n",
              "\n",
              "    .colab-df-convert {\n",
              "      background-color: #E8F0FE;\n",
              "      border: none;\n",
              "      border-radius: 50%;\n",
              "      cursor: pointer;\n",
              "      display: none;\n",
              "      fill: #1967D2;\n",
              "      height: 32px;\n",
              "      padding: 0 0 0 0;\n",
              "      width: 32px;\n",
              "    }\n",
              "\n",
              "    .colab-df-convert:hover {\n",
              "      background-color: #E2EBFA;\n",
              "      box-shadow: 0px 1px 2px rgba(60, 64, 67, 0.3), 0px 1px 3px 1px rgba(60, 64, 67, 0.15);\n",
              "      fill: #174EA6;\n",
              "    }\n",
              "\n",
              "    [theme=dark] .colab-df-convert {\n",
              "      background-color: #3B4455;\n",
              "      fill: #D2E3FC;\n",
              "    }\n",
              "\n",
              "    [theme=dark] .colab-df-convert:hover {\n",
              "      background-color: #434B5C;\n",
              "      box-shadow: 0px 1px 3px 1px rgba(0, 0, 0, 0.15);\n",
              "      filter: drop-shadow(0px 1px 2px rgba(0, 0, 0, 0.3));\n",
              "      fill: #FFFFFF;\n",
              "    }\n",
              "  </style>\n",
              "\n",
              "      <script>\n",
              "        const buttonEl =\n",
              "          document.querySelector('#df-315ef815-30f0-4c12-aefe-e6954e4c4bad button.colab-df-convert');\n",
              "        buttonEl.style.display =\n",
              "          google.colab.kernel.accessAllowed ? 'block' : 'none';\n",
              "\n",
              "        async function convertToInteractive(key) {\n",
              "          const element = document.querySelector('#df-315ef815-30f0-4c12-aefe-e6954e4c4bad');\n",
              "          const dataTable =\n",
              "            await google.colab.kernel.invokeFunction('convertToInteractive',\n",
              "                                                     [key], {});\n",
              "          if (!dataTable) return;\n",
              "\n",
              "          const docLinkHtml = 'Like what you see? Visit the ' +\n",
              "            '<a target=\"_blank\" href=https://colab.research.google.com/notebooks/data_table.ipynb>data table notebook</a>'\n",
              "            + ' to learn more about interactive tables.';\n",
              "          element.innerHTML = '';\n",
              "          dataTable['output_type'] = 'display_data';\n",
              "          await google.colab.output.renderOutput(dataTable, element);\n",
              "          const docLink = document.createElement('div');\n",
              "          docLink.innerHTML = docLinkHtml;\n",
              "          element.appendChild(docLink);\n",
              "        }\n",
              "      </script>\n",
              "    </div>\n",
              "  </div>\n",
              "  "
            ]
          },
          "metadata": {},
          "execution_count": 45
        }
      ]
    },
    {
      "cell_type": "code",
      "source": [
        "plt.figure(figsize=(5,4))\n",
        "sns.heatmap(cm_df, annot=True, cmap=plt.cm.Blues)\n",
        "plt.title('Confusion Matrix')\n",
        "plt.ylabel('Actal Values')\n",
        "plt.xlabel('Predicted Values')\n",
        "plt.show()"
      ],
      "metadata": {
        "colab": {
          "base_uri": "https://localhost:8080/",
          "height": 295
        },
        "id": "xCvKfJF6qgrm",
        "outputId": "845c861a-c2bc-482a-9272-a75f7353b3bd"
      },
      "execution_count": 47,
      "outputs": [
        {
          "output_type": "display_data",
          "data": {
            "text/plain": [
              "<Figure size 360x288 with 2 Axes>"
            ],
            "image/png": "[encoded data removed]"
          },
          "metadata": {
            "needs_background": "light"
          }
        }
      ]
    },
    {
      "cell_type": "code",
      "source": [
        "skplt.metrics.plot_roc(label_test_array, predictions, title = 'ROC Plot');"
      ],
      "metadata": {
        "colab": {
          "base_uri": "https://localhost:8080/",
          "height": 295
        },
        "id": "dJSnPORMrCuX",
        "outputId": "b1f896ee-910a-49d6-ce43-c70277cf8e97"
      },
      "execution_count": 51,
      "outputs": [
        {
          "output_type": "display_data",
          "data": {
            "text/plain": [
              "<Figure size 432x288 with 1 Axes>"
            ],
            "image/png": "[encoded data removed]"
          },
          "metadata": {
            "needs_background": "light"
          }
        }
      ]
    },
    {
      "cell_type": "code",
      "source": [
        "skplt.metrics.plot_precision_recall(label_test_array, predictions, title = 'PR Curve');"
      ],
      "metadata": {
        "colab": {
          "base_uri": "https://localhost:8080/",
          "height": 295
        },
        "id": "HMg1Q8b0rpJJ",
        "outputId": "bcc721ea-6985-42c2-ab8b-925cd4e7abd2"
      },
      "execution_count": 52,
      "outputs": [
        {
          "output_type": "display_data",
          "data": {
            "text/plain": [
              "<Figure size 432x288 with 1 Axes>"
            ],
            "image/png": "[encoded data removed]"
          },
          "metadata": {
            "needs_background": "light"
          }
        }
      ]
    },
    {
      "cell_type": "code",
      "source": [
        "target_names = ['CN', 'MCI', 'AD']\n",
        "print(classification_report(label_test_array, ypred, target_names=target_names))"
      ],
      "metadata": {
        "colab": {
          "base_uri": "https://localhost:8080/"
        },
        "id": "XogQM1C3rs-d",
        "outputId": "ae7e21b3-3d1d-487b-d9bf-34eba206aff9"
      },
      "execution_count": 53,
      "outputs": [
        {
          "output_type": "stream",
          "name": "stdout",
          "text": [
            "              precision    recall  f1-score   support\n",
            "\n",
            "          CN       0.51      0.47      0.49       139\n",
            "         MCI       0.54      0.81      0.65       204\n",
            "          AD       1.00      0.01      0.02        94\n",
            "\n",
            "    accuracy                           0.53       437\n",
            "   macro avg       0.68      0.43      0.39       437\n",
            "weighted avg       0.63      0.53      0.46       437\n",
            "\n"
          ]
        }
      ]
    }
  ],
  "metadata": {
    "accelerator": "TPU",
    "colab": {
      "machine_shape": "hm",
      "provenance": [],
      "include_colab_link": true
    },
    "gpuClass": "standard",
    "kernelspec": {
      "display_name": "Python 3",
      "name": "python3"
    },
    "language_info": {
      "name": "python"
    }
  },
  "nbformat": 4,
  "nbformat_minor": 0
}